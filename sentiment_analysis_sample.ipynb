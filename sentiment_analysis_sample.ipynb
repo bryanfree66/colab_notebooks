{
  "nbformat": 4,
  "nbformat_minor": 0,
  "metadata": {
    "colab": {
      "name": "sentiment_analysis_sample.ipynb",
      "provenance": [],
      "collapsed_sections": [],
      "toc_visible": true,
      "authorship_tag": "ABX9TyNXUMfcWWpBJ47B0SklelX4",
      "include_colab_link": true
    },
    "kernelspec": {
      "name": "python3",
      "display_name": "Python 3"
    }
  },
  "cells": [
    {
      "cell_type": "markdown",
      "metadata": {
        "id": "view-in-github",
        "colab_type": "text"
      },
      "source": [
        "<a href=\"https://colab.research.google.com/github/bryanfree66/colab_notebooks/blob/master/sentiment_analysis_sample.ipynb\" target=\"_parent\"><img src=\"https://colab.research.google.com/assets/colab-badge.svg\" alt=\"Open In Colab\"/></a>"
      ]
    },
    {
      "cell_type": "markdown",
      "metadata": {
        "id": "2km3oZQn3_xL",
        "colab_type": "text"
      },
      "source": [
        "# Sentiment Identification in UCI Roman Urdu Data Set Data Set\n",
        "## Data Description\n",
        "\n",
        "\n",
        "1.   Number of records: 20000\n",
        "2.   Text data\n",
        "3.   Two string data type values per record\n",
        "4.   Tagged for Sentiment (Positive, Negative, Neutral)\n",
        "5.   The training data includes documents from a wide variety of sources\n",
        "\n",
        "[Dataset link](http://archive.ics.uci.edu/ml/datasets/Roman+Urdu+Data+Set)\n",
        "\n",
        "## Goal\n",
        "* Train a sentiment classifier on the corpus of the dataset \n",
        "* Maximize accuracy of the classifier\n",
        "* I want to be more sensitive to identifying negative\n",
        "\n",
        "## Plan of Work\n",
        "1. Load and clean up the data\n",
        "2. Do some exploratory data analysis\n",
        "3. Do some basic text feature engineering\n",
        "4. Train and evaluate model(s)\n",
        "5. Select best model based on metrics"
      ]
    },
    {
      "cell_type": "code",
      "metadata": {
        "id": "QGUWnDVGYkyL",
        "colab_type": "code",
        "colab": {
          "base_uri": "https://localhost:8080/",
          "height": 156
        },
        "outputId": "db3de17d-3fdf-40ca-9366-1e4281fc2ae6"
      },
      "source": [
        "import pandas as pd\n",
        "import numpy as np\n",
        "import matplotlib.pyplot as plt\n",
        "import seaborn as sns\n",
        "import nltk\n",
        "import re\n",
        "import warnings\n",
        "\n",
        "from google.colab import drive\n",
        "from imblearn.under_sampling import RandomUnderSampler\n",
        "from sklearn.feature_extraction import text\n",
        "from sklearn.feature_extraction.text import TfidfVectorizer, CountVectorizer\n",
        "from sklearn.base import BaseEstimator, TransformerMixin\n",
        "from sklearn.model_selection import train_test_split, KFold\n",
        "from sklearn.metrics import confusion_matrix, accuracy_score\n",
        "from sklearn.model_selection import GridSearchCV\n",
        "from sklearn.metrics import classification_report\n",
        "from sklearn.pipeline import Pipeline, FeatureUnion\n",
        "from sklearn.preprocessing import LabelEncoder, StandardScaler\n",
        "from sklearn.svm import SVC\n",
        "\n",
        "warnings.filterwarnings(\"ignore\")\n",
        "drive.mount('/content/drive')"
      ],
      "execution_count": 1,
      "outputs": [
        {
          "output_type": "stream",
          "text": [
            "/usr/local/lib/python3.6/dist-packages/statsmodels/tools/_testing.py:19: FutureWarning: pandas.util.testing is deprecated. Use the functions in the public API at pandas.testing instead.\n",
            "  import pandas.util.testing as tm\n"
          ],
          "name": "stderr"
        },
        {
          "output_type": "stream",
          "text": [
            "Drive already mounted at /content/drive; to attempt to forcibly remount, call drive.mount(\"/content/drive\", force_remount=True).\n"
          ],
          "name": "stdout"
        },
        {
          "output_type": "stream",
          "text": [
            "/usr/local/lib/python3.6/dist-packages/sklearn/externals/six.py:31: FutureWarning: The module is deprecated in version 0.21 and will be removed in version 0.23 since we've dropped support for Python 2.7. Please rely on the official version of six (https://pypi.org/project/six/).\n",
            "  \"(https://pypi.org/project/six/).\", FutureWarning)\n",
            "/usr/local/lib/python3.6/dist-packages/sklearn/utils/deprecation.py:144: FutureWarning: The sklearn.neighbors.base module is  deprecated in version 0.22 and will be removed in version 0.24. The corresponding classes / functions should instead be imported from sklearn.neighbors. Anything that cannot be imported from sklearn.neighbors is now part of the private API.\n",
            "  warnings.warn(message, FutureWarning)\n"
          ],
          "name": "stderr"
        }
      ]
    },
    {
      "cell_type": "markdown",
      "metadata": {
        "id": "yM7kV-HMEOEA",
        "colab_type": "text"
      },
      "source": [
        "### Load the Data"
      ]
    },
    {
      "cell_type": "code",
      "metadata": {
        "id": "V0mMybwQ3WNb",
        "colab_type": "code",
        "colab": {
          "base_uri": "https://localhost:8080/",
          "height": 68
        },
        "outputId": "abffd8db-918d-4a81-9d15-e9062ef2ca8e"
      },
      "source": [
        "%%time\n",
        "# Use session storage\n",
        "#df = pd.read_csv('/content/data/roman_urdu/Roman Urdu DataSet.csv',\n",
        "#                 encoding='utf8')\n",
        "\n",
        "# Use Google Drive\n",
        "df = pd.read_csv('/content/drive/My Drive/working_data/roman_urdu/Roman Urdu DataSet.csv',\n",
        "                 encoding='utf8')\n",
        "\n",
        "# Save a clean copy for later\n",
        "clean_copy = df.copy()  \n",
        "print('Original data shape: {}'.format(df.shape))"
      ],
      "execution_count": 2,
      "outputs": [
        {
          "output_type": "stream",
          "text": [
            "Original data shape: (20228, 3)\n",
            "CPU times: user 34.6 ms, sys: 13.8 ms, total: 48.4 ms\n",
            "Wall time: 52.2 ms\n"
          ],
          "name": "stdout"
        }
      ]
    },
    {
      "cell_type": "markdown",
      "metadata": {
        "id": "EIhs3UkY7Hcw",
        "colab_type": "text"
      },
      "source": [
        "I can see right away the dataset is not the shape I expected. The data description has two columns, but we seem to be picking up an extra column from the CSV."
      ]
    },
    {
      "cell_type": "code",
      "metadata": {
        "id": "MlcrfdKA530Y",
        "colab_type": "code",
        "colab": {
          "base_uri": "https://localhost:8080/",
          "height": 204
        },
        "outputId": "6d76f27e-ca9f-4a92-f38b-dc27eaf408e0"
      },
      "source": [
        "df.head()"
      ],
      "execution_count": 3,
      "outputs": [
        {
          "output_type": "execute_result",
          "data": {
            "text/html": [
              "<div>\n",
              "<style scoped>\n",
              "    .dataframe tbody tr th:only-of-type {\n",
              "        vertical-align: middle;\n",
              "    }\n",
              "\n",
              "    .dataframe tbody tr th {\n",
              "        vertical-align: top;\n",
              "    }\n",
              "\n",
              "    .dataframe thead th {\n",
              "        text-align: right;\n",
              "    }\n",
              "</style>\n",
              "<table border=\"1\" class=\"dataframe\">\n",
              "  <thead>\n",
              "    <tr style=\"text-align: right;\">\n",
              "      <th></th>\n",
              "      <th>Sai kha ya her kisi kay bus ki bat nhi hai lakin main ki hal kal bi Aj aur aj bi sirf Aus say bus</th>\n",
              "      <th>Positive</th>\n",
              "      <th>Unnamed: 2</th>\n",
              "    </tr>\n",
              "  </thead>\n",
              "  <tbody>\n",
              "    <tr>\n",
              "      <th>0</th>\n",
              "      <td>sahi bt h</td>\n",
              "      <td>Positive</td>\n",
              "      <td>NaN</td>\n",
              "    </tr>\n",
              "    <tr>\n",
              "      <th>1</th>\n",
              "      <td>Kya bt hai,</td>\n",
              "      <td>Positive</td>\n",
              "      <td>NaN</td>\n",
              "    </tr>\n",
              "    <tr>\n",
              "      <th>2</th>\n",
              "      <td>Wah je wah</td>\n",
              "      <td>Positive</td>\n",
              "      <td>NaN</td>\n",
              "    </tr>\n",
              "    <tr>\n",
              "      <th>3</th>\n",
              "      <td>Are wha kaya bat hai</td>\n",
              "      <td>Positive</td>\n",
              "      <td>NaN</td>\n",
              "    </tr>\n",
              "    <tr>\n",
              "      <th>4</th>\n",
              "      <td>Wah kya baat likhi</td>\n",
              "      <td>Positive</td>\n",
              "      <td>NaN</td>\n",
              "    </tr>\n",
              "  </tbody>\n",
              "</table>\n",
              "</div>"
            ],
            "text/plain": [
              "  Sai kha ya her kisi kay bus ki bat nhi hai lakin main ki hal kal bi Aj aur aj bi sirf Aus say bus  ... Unnamed: 2\n",
              "0                                          sahi bt h                                                 ...        NaN\n",
              "1                                        Kya bt hai,                                                 ...        NaN\n",
              "2                                         Wah je wah                                                 ...        NaN\n",
              "3                               Are wha kaya bat hai                                                 ...        NaN\n",
              "4                                 Wah kya baat likhi                                                 ...        NaN\n",
              "\n",
              "[5 rows x 3 columns]"
            ]
          },
          "metadata": {
            "tags": []
          },
          "execution_count": 3
        }
      ]
    },
    {
      "cell_type": "markdown",
      "metadata": {
        "id": "gesF1OKB7csf",
        "colab_type": "text"
      },
      "source": [
        "It looks like an extra column I wasn`t expecting. I´m also going to rename the first columns. I will set up a data pipeline later to automate all of the changes.  I´ll start by renaming the columns for convenience."
      ]
    },
    {
      "cell_type": "markdown",
      "metadata": {
        "id": "ixSd6EWwEXod",
        "colab_type": "text"
      },
      "source": [
        "### Initial Cleaning"
      ]
    },
    {
      "cell_type": "code",
      "metadata": {
        "id": "WO85PB2q9g0w",
        "colab_type": "code",
        "colab": {}
      },
      "source": [
        "colunm_names = ['phrase','target','unexpected']\n",
        "df.columns = colunm_names"
      ],
      "execution_count": 4,
      "outputs": []
    },
    {
      "cell_type": "code",
      "metadata": {
        "id": "1Z9R4TW57iaO",
        "colab_type": "code",
        "colab": {
          "base_uri": "https://localhost:8080/",
          "height": 204
        },
        "outputId": "8c84812b-dbcf-425a-df32-4f236bdb519d"
      },
      "source": [
        "df.head()"
      ],
      "execution_count": 5,
      "outputs": [
        {
          "output_type": "execute_result",
          "data": {
            "text/html": [
              "<div>\n",
              "<style scoped>\n",
              "    .dataframe tbody tr th:only-of-type {\n",
              "        vertical-align: middle;\n",
              "    }\n",
              "\n",
              "    .dataframe tbody tr th {\n",
              "        vertical-align: top;\n",
              "    }\n",
              "\n",
              "    .dataframe thead th {\n",
              "        text-align: right;\n",
              "    }\n",
              "</style>\n",
              "<table border=\"1\" class=\"dataframe\">\n",
              "  <thead>\n",
              "    <tr style=\"text-align: right;\">\n",
              "      <th></th>\n",
              "      <th>phrase</th>\n",
              "      <th>target</th>\n",
              "      <th>unexpected</th>\n",
              "    </tr>\n",
              "  </thead>\n",
              "  <tbody>\n",
              "    <tr>\n",
              "      <th>0</th>\n",
              "      <td>sahi bt h</td>\n",
              "      <td>Positive</td>\n",
              "      <td>NaN</td>\n",
              "    </tr>\n",
              "    <tr>\n",
              "      <th>1</th>\n",
              "      <td>Kya bt hai,</td>\n",
              "      <td>Positive</td>\n",
              "      <td>NaN</td>\n",
              "    </tr>\n",
              "    <tr>\n",
              "      <th>2</th>\n",
              "      <td>Wah je wah</td>\n",
              "      <td>Positive</td>\n",
              "      <td>NaN</td>\n",
              "    </tr>\n",
              "    <tr>\n",
              "      <th>3</th>\n",
              "      <td>Are wha kaya bat hai</td>\n",
              "      <td>Positive</td>\n",
              "      <td>NaN</td>\n",
              "    </tr>\n",
              "    <tr>\n",
              "      <th>4</th>\n",
              "      <td>Wah kya baat likhi</td>\n",
              "      <td>Positive</td>\n",
              "      <td>NaN</td>\n",
              "    </tr>\n",
              "  </tbody>\n",
              "</table>\n",
              "</div>"
            ],
            "text/plain": [
              "                 phrase    target unexpected\n",
              "0             sahi bt h  Positive        NaN\n",
              "1           Kya bt hai,  Positive        NaN\n",
              "2            Wah je wah  Positive        NaN\n",
              "3  Are wha kaya bat hai  Positive        NaN\n",
              "4    Wah kya baat likhi  Positive        NaN"
            ]
          },
          "metadata": {
            "tags": []
          },
          "execution_count": 5
        }
      ]
    },
    {
      "cell_type": "code",
      "metadata": {
        "id": "TGhGQeE79Iro",
        "colab_type": "code",
        "colab": {
          "base_uri": "https://localhost:8080/",
          "height": 136
        },
        "outputId": "97502020-bf10-493f-a7d4-16385b8cbb79"
      },
      "source": [
        "df['unexpected'].value_counts()"
      ],
      "execution_count": 6,
      "outputs": [
        {
          "output_type": "execute_result",
          "data": {
            "text/plain": [
              "till here           2\n",
              "-------             1\n",
              "------              1\n",
              "----------          1\n",
              "9090                1\n",
              "----------------    1\n",
              "Name: unexpected, dtype: int64"
            ]
          },
          "metadata": {
            "tags": []
          },
          "execution_count": 6
        }
      ]
    },
    {
      "cell_type": "markdown",
      "metadata": {
        "id": "ReOgJzTNAZTg",
        "colab_type": "text"
      },
      "source": [
        "I´m going to go ahead and drop the extra column."
      ]
    },
    {
      "cell_type": "code",
      "metadata": {
        "id": "aNE-VsibAhRO",
        "colab_type": "code",
        "colab": {}
      },
      "source": [
        "df.drop('unexpected', axis=1, inplace=True)"
      ],
      "execution_count": 7,
      "outputs": []
    },
    {
      "cell_type": "markdown",
      "metadata": {
        "id": "k9vUZ87DYtbZ",
        "colab_type": "text"
      },
      "source": [
        "## Data Exploration\n",
        "\n",
        "Let´s take a look at the details of the dataset."
      ]
    },
    {
      "cell_type": "markdown",
      "metadata": {
        "id": "byFSFMBAbUCR",
        "colab_type": "text"
      },
      "source": [
        "### View Distribution of Targets"
      ]
    },
    {
      "cell_type": "code",
      "metadata": {
        "id": "DtDvYoCDA9yP",
        "colab_type": "code",
        "colab": {
          "base_uri": "https://localhost:8080/",
          "height": 102
        },
        "outputId": "197f161d-12bd-4e85-a5b9-6e6b931b9377"
      },
      "source": [
        "phrase_col = 'phrase'\n",
        "target_col = 'target'\n",
        "df[target_col].value_counts()"
      ],
      "execution_count": 8,
      "outputs": [
        {
          "output_type": "execute_result",
          "data": {
            "text/plain": [
              "Neutral     8929\n",
              "Positive    6012\n",
              "Negative    5286\n",
              "Neative        1\n",
              "Name: target, dtype: int64"
            ]
          },
          "metadata": {
            "tags": []
          },
          "execution_count": 8
        }
      ]
    },
    {
      "cell_type": "markdown",
      "metadata": {
        "id": "qSEInIfqB-SS",
        "colab_type": "text"
      },
      "source": [
        "We have an unexpected value in our labels. We will have to account for that in the pipeline. I´m going to drop it, because I can´t automate for every spelling error in the labels."
      ]
    },
    {
      "cell_type": "code",
      "metadata": {
        "id": "34gKxbopCeYj",
        "colab_type": "code",
        "colab": {
          "base_uri": "https://localhost:8080/",
          "height": 85
        },
        "outputId": "d255a3c1-6f08-480a-a021-86480216c40d"
      },
      "source": [
        "correct_labels = ['Positive', 'Negative', 'Neutral']\n",
        "df = df[df.target.isin(correct_labels)]\n",
        "df[target_col].value_counts()"
      ],
      "execution_count": 9,
      "outputs": [
        {
          "output_type": "execute_result",
          "data": {
            "text/plain": [
              "Neutral     8929\n",
              "Positive    6012\n",
              "Negative    5286\n",
              "Name: target, dtype: int64"
            ]
          },
          "metadata": {
            "tags": []
          },
          "execution_count": 9
        }
      ]
    },
    {
      "cell_type": "code",
      "metadata": {
        "id": "Ri1RqxKQYzze",
        "colab_type": "code",
        "colab": {
          "base_uri": "https://localhost:8080/",
          "height": 553
        },
        "outputId": "33fed22c-4ede-4762-ed36-1895886f9284"
      },
      "source": [
        "plt.figure(figsize=(12,8))\n",
        "sns.countplot(x=target_col, data=df)\n",
        "plt.ylabel('Frequency', fontsize=12)\n",
        "plt.xlabel('Class Count', fontsize=12)\n",
        "plt.xticks(rotation='vertical')\n",
        "plt.title(\"Frequency of Classes\", fontsize=15)\n",
        "plt.show()"
      ],
      "execution_count": 10,
      "outputs": [
        {
          "output_type": "display_data",
          "data": {
            "image/png": "[encoded data removed]",
            "text/plain": [
              "<Figure size 864x576 with 1 Axes>"
            ]
          },
          "metadata": {
            "tags": [],
            "needs_background": "light"
          }
        }
      ]
    },
    {
      "cell_type": "markdown",
      "metadata": {
        "id": "ExBMB7osbHDf",
        "colab_type": "text"
      },
      "source": [
        "We have quite a few more neutral reviews than positive and negative. The positive and negative counts are close enough.\n",
        "\n",
        "**`Requirement:`** One of the requirements of the work sample is to document how data limitations impact the result, and what I might do on a larger project.\n",
        "\n",
        "When the class distribution is unbalanced, the model favors predicting the most frequent class. Accuracy can be a poor choice of evaluation metric for a classifier if the data is unbalanced as well.\n",
        "\n",
        "On a larger project, I might consider a technique such as GAN minority oversampling to balance out the dataset.\n",
        "\n",
        "The simplest way to fix imbalanced dataset is simply balancing them by oversampling instances of the minority class or undersampling instances of the majority class. That is what I will choose to do in this case.\n",
        "\n"
      ]
    },
    {
      "cell_type": "code",
      "metadata": {
        "id": "6orv8-zOdi78",
        "colab_type": "code",
        "colab": {
          "base_uri": "https://localhost:8080/",
          "height": 173
        },
        "outputId": "8c22701e-405f-4e71-bd22-80b9d1be4fb0"
      },
      "source": [
        "df.describe()"
      ],
      "execution_count": 11,
      "outputs": [
        {
          "output_type": "execute_result",
          "data": {
            "text/html": [
              "<div>\n",
              "<style scoped>\n",
              "    .dataframe tbody tr th:only-of-type {\n",
              "        vertical-align: middle;\n",
              "    }\n",
              "\n",
              "    .dataframe tbody tr th {\n",
              "        vertical-align: top;\n",
              "    }\n",
              "\n",
              "    .dataframe thead th {\n",
              "        text-align: right;\n",
              "    }\n",
              "</style>\n",
              "<table border=\"1\" class=\"dataframe\">\n",
              "  <thead>\n",
              "    <tr style=\"text-align: right;\">\n",
              "      <th></th>\n",
              "      <th>phrase</th>\n",
              "      <th>target</th>\n",
              "    </tr>\n",
              "  </thead>\n",
              "  <tbody>\n",
              "    <tr>\n",
              "      <th>count</th>\n",
              "      <td>20226</td>\n",
              "      <td>20227</td>\n",
              "    </tr>\n",
              "    <tr>\n",
              "      <th>unique</th>\n",
              "      <td>19662</td>\n",
              "      <td>3</td>\n",
              "    </tr>\n",
              "    <tr>\n",
              "      <th>top</th>\n",
              "      <td>Good</td>\n",
              "      <td>Neutral</td>\n",
              "    </tr>\n",
              "    <tr>\n",
              "      <th>freq</th>\n",
              "      <td>23</td>\n",
              "      <td>8929</td>\n",
              "    </tr>\n",
              "  </tbody>\n",
              "</table>\n",
              "</div>"
            ],
            "text/plain": [
              "       phrase   target\n",
              "count   20226    20227\n",
              "unique  19662        3\n",
              "top      Good  Neutral\n",
              "freq       23     8929"
            ]
          },
          "metadata": {
            "tags": []
          },
          "execution_count": 11
        }
      ]
    },
    {
      "cell_type": "markdown",
      "metadata": {
        "id": "1k2pGpUqcPKq",
        "colab_type": "text"
      },
      "source": [
        "### Check for Empty Records"
      ]
    },
    {
      "cell_type": "code",
      "metadata": {
        "id": "a0CRH9djEuX1",
        "colab_type": "code",
        "colab": {
          "base_uri": "https://localhost:8080/",
          "height": 68
        },
        "outputId": "2e1710b9-a9c9-4a19-e349-57acb0c41b70"
      },
      "source": [
        "df.isnull().sum()"
      ],
      "execution_count": 12,
      "outputs": [
        {
          "output_type": "execute_result",
          "data": {
            "text/plain": [
              "phrase    1\n",
              "target    0\n",
              "dtype: int64"
            ]
          },
          "metadata": {
            "tags": []
          },
          "execution_count": 12
        }
      ]
    },
    {
      "cell_type": "markdown",
      "metadata": {
        "id": "u0N8H9HSElHv",
        "colab_type": "text"
      },
      "source": [
        "There is one null review. I will deal with that in a bit.\n",
        "\n"
      ]
    },
    {
      "cell_type": "markdown",
      "metadata": {
        "id": "4c3R4fvhG4Mq",
        "colab_type": "text"
      },
      "source": [
        "### Duplicate Rows Check"
      ]
    },
    {
      "cell_type": "code",
      "metadata": {
        "id": "J1sj7uQJG_0_",
        "colab_type": "code",
        "colab": {
          "base_uri": "https://localhost:8080/",
          "height": 255
        },
        "outputId": "be8e3453-6558-48fd-c1e8-5e25a155978c"
      },
      "source": [
        "print(df[df.duplicated(keep='first')])"
      ],
      "execution_count": 13,
      "outputs": [
        {
          "output_type": "stream",
          "text": [
            "                                                  phrase    target\n",
            "19                                          jee ye to he  Positive\n",
            "411                                             Hahahaha  Positive\n",
            "585      Kabhi aap dusro k lye Dil se dua mang kr dekho   Positive\n",
            "596    Karachi K Badalte Hue Halaat Or Nit Nayi Faida...  Positive\n",
            "602    Aaj Bhi Shehar Me Target Killing Ka Koi Waqia ...  Positive\n",
            "...                                                  ...       ...\n",
            "17581  Or agr ye jhota wada howa to pti waly khud is ...  Negative\n",
            "18207                              Conse colr may chaiye   Neutral\n",
            "18354  Dhoka ha ye site plx mat Len ink products frau...  Negative\n",
            "18363  Dhoka ha ye site plx mat Len ink products frau...  Negative\n",
            "19543                                           Kia huwa   Neutral\n",
            "\n",
            "[543 rows x 2 columns]\n"
          ],
          "name": "stdout"
        }
      ]
    },
    {
      "cell_type": "markdown",
      "metadata": {
        "id": "YBKySxG0J3Fg",
        "colab_type": "text"
      },
      "source": [
        "I'm going to drop those duplicates later."
      ]
    },
    {
      "cell_type": "markdown",
      "metadata": {
        "id": "DoQSlwgrXK5G",
        "colab_type": "text"
      },
      "source": [
        "## Feature Engineering\n",
        "\n",
        "Now that we have discovered the basic cleanup procedures required, I am going to some basic text feature engineering.\n",
        "\n",
        "**`Requirement:`**  The requirements from the customer specify evolving this solution into a multilingual sentiment application. \n",
        "\n",
        "For a production system, if the client requirements did not involve unsupported languages, I would put all of the data preperation and feature engineering steps into an SKLearn pipeline. I this would produce more repeatable and reliable model training process.\n",
        "\n",
        "An academic paper on multilingual pipelines can be found [here](https://www.frederikhogenboom.nl/work/papers/wise11-slang.pdf).\n",
        "\n",
        "I will implement a flexible pipeline, to the extent possible, in this work sample."
      ]
    },
    {
      "cell_type": "markdown",
      "metadata": {
        "id": "0VBEGPrNz4hH",
        "colab_type": "text"
      },
      "source": [
        "### Preprocessing the Data"
      ]
    },
    {
      "cell_type": "code",
      "metadata": {
        "id": "OGXudVhmzeqC",
        "colab_type": "code",
        "colab": {}
      },
      "source": [
        "# Preprocessing function to encapsulate steps \n",
        "# We want to support other column names, stopwords,\n",
        "# and target values in the future\n",
        "def processing(data, stopwords, col_names, target_vals):\n",
        "    # Name the columns\n",
        "    data.columns = col_names\n",
        "    # Drop extra column\n",
        "    data.drop('unexpected', axis=1, inplace=True)\n",
        "    # Remove bad labels\n",
        "    data = data[data.target.isin(target_vals)]\n",
        "    # Lowercase phrases and remove punctuation\n",
        "    data['processed'] = data['phrase'].apply(lambda x: re.sub(r'[^\\w\\s]','', str(x).lower()))\n",
        "    # Total length of phrase\n",
        "    data['length'] = data['processed'].apply(lambda x: len(x))\n",
        "    # Number of words\n",
        "    data['num_words'] = data['processed'].apply(lambda x: len(x.split(' ')))\n",
        "    # Subtract the stopwords\n",
        "    data['words_not_stopwords'] = data['processed'].apply(lambda x: len([t for t in x.split(' ') if t not in stopwords]))\n",
        "    #get the average word length\n",
        "    data['avg_word_length'] = data['processed'].apply(lambda x: np.mean(\n",
        "        [len(t) for t in x.split(' ') if t not in stopwords]) if len(\n",
        "            [len(t) for t in x.split(' ') if t not in stopwords]) > 0 else 0)\n",
        "    return data"
      ],
      "execution_count": 14,
      "outputs": []
    },
    {
      "cell_type": "markdown",
      "metadata": {
        "id": "Hdfb9VQIcJ8f",
        "colab_type": "text"
      },
      "source": [
        "Roman Urdu stopwords list from [GitHub](https://github.com/mirfan899/roman-urdu-stopwords/blob/master/stopwords.txt)."
      ]
    },
    {
      "cell_type": "code",
      "metadata": {
        "id": "QoI27A6Xyum-",
        "colab_type": "code",
        "colab": {}
      },
      "source": [
        "stopwords_list = ['ai', 'ayi', 'hy', 'hai', 'main', 'ki', 'tha', 'koi', 'ko', \n",
        "                  'sy', 'woh', 'bhi', 'aur', 'wo', 'yeh', 'rha', 'hota', 'ho', \n",
        "                  'ga', 'ka', 'le', 'lye', 'kr', 'kar', 'lye', 'liye', \n",
        "                  'hotay', 'waisay', 'gya', 'gaya', 'kch', 'ab', 'thy', 'thay', \n",
        "                  'houn', 'hain', 'han', 'to', 'is', 'hi', 'jo', 'kya', 'thi', \n",
        "                  'se', 'pe', 'phr', 'wala', 'waisay', 'us', 'na', 'ny', 'hun', \n",
        "                  'rha', 'raha', 'ja', 'rahay', 'abi', 'uski', 'ne', 'haan', \n",
        "                  'acha', 'nai', 'sent', 'photo', 'you', 'kafi', 'gai', 'rhy', \n",
        "                  'kuch', 'jata', 'aye', 'ya', 'dono', 'hoa', 'aese', 'de', \n",
        "                  'wohi', 'jati', 'jb', 'krta', 'lg', 'rahi', 'hui', 'karna', \n",
        "                  'krna', 'gi', 'hova', 'yehi', 'jana', 'jye', 'chal', 'mil', \n",
        "                  'tu', 'hum', 'par', 'hay', 'kis', 'sb', 'gy', 'dain', 'krny', \n",
        "                  'tou']\n",
        "\n",
        "stopwords = set(stopwords_list)\n",
        "col_names = ['phrase', 'target', 'unexpected']\n",
        "target_values = ['Positive', 'Negative', 'Neutral']"
      ],
      "execution_count": 15,
      "outputs": []
    },
    {
      "cell_type": "code",
      "metadata": {
        "id": "68vtEA-N-Ptr",
        "colab_type": "code",
        "colab": {
          "base_uri": "https://localhost:8080/",
          "height": 204
        },
        "outputId": "fd74377a-4e1f-46c4-f952-82717b7d7f8d"
      },
      "source": [
        "# Revert to a clean copy\n",
        "df = clean_copy.copy()\n",
        "df_processed = processing(df, stopwords, col_names, target_values)\n",
        "df_processed.head()"
      ],
      "execution_count": 16,
      "outputs": [
        {
          "output_type": "execute_result",
          "data": {
            "text/html": [
              "<div>\n",
              "<style scoped>\n",
              "    .dataframe tbody tr th:only-of-type {\n",
              "        vertical-align: middle;\n",
              "    }\n",
              "\n",
              "    .dataframe tbody tr th {\n",
              "        vertical-align: top;\n",
              "    }\n",
              "\n",
              "    .dataframe thead th {\n",
              "        text-align: right;\n",
              "    }\n",
              "</style>\n",
              "<table border=\"1\" class=\"dataframe\">\n",
              "  <thead>\n",
              "    <tr style=\"text-align: right;\">\n",
              "      <th></th>\n",
              "      <th>phrase</th>\n",
              "      <th>target</th>\n",
              "      <th>processed</th>\n",
              "      <th>length</th>\n",
              "      <th>num_words</th>\n",
              "      <th>words_not_stopwords</th>\n",
              "      <th>avg_word_length</th>\n",
              "    </tr>\n",
              "  </thead>\n",
              "  <tbody>\n",
              "    <tr>\n",
              "      <th>0</th>\n",
              "      <td>sahi bt h</td>\n",
              "      <td>Positive</td>\n",
              "      <td>sahi bt h</td>\n",
              "      <td>9</td>\n",
              "      <td>3</td>\n",
              "      <td>3</td>\n",
              "      <td>2.333333</td>\n",
              "    </tr>\n",
              "    <tr>\n",
              "      <th>1</th>\n",
              "      <td>Kya bt hai,</td>\n",
              "      <td>Positive</td>\n",
              "      <td>kya bt hai</td>\n",
              "      <td>10</td>\n",
              "      <td>3</td>\n",
              "      <td>1</td>\n",
              "      <td>2.000000</td>\n",
              "    </tr>\n",
              "    <tr>\n",
              "      <th>2</th>\n",
              "      <td>Wah je wah</td>\n",
              "      <td>Positive</td>\n",
              "      <td>wah je wah</td>\n",
              "      <td>10</td>\n",
              "      <td>3</td>\n",
              "      <td>3</td>\n",
              "      <td>2.666667</td>\n",
              "    </tr>\n",
              "    <tr>\n",
              "      <th>3</th>\n",
              "      <td>Are wha kaya bat hai</td>\n",
              "      <td>Positive</td>\n",
              "      <td>are wha kaya bat hai</td>\n",
              "      <td>20</td>\n",
              "      <td>5</td>\n",
              "      <td>4</td>\n",
              "      <td>3.250000</td>\n",
              "    </tr>\n",
              "    <tr>\n",
              "      <th>4</th>\n",
              "      <td>Wah kya baat likhi</td>\n",
              "      <td>Positive</td>\n",
              "      <td>wah kya baat likhi</td>\n",
              "      <td>18</td>\n",
              "      <td>4</td>\n",
              "      <td>3</td>\n",
              "      <td>4.000000</td>\n",
              "    </tr>\n",
              "  </tbody>\n",
              "</table>\n",
              "</div>"
            ],
            "text/plain": [
              "                 phrase    target  ... words_not_stopwords  avg_word_length\n",
              "0             sahi bt h  Positive  ...                   3         2.333333\n",
              "1           Kya bt hai,  Positive  ...                   1         2.000000\n",
              "2            Wah je wah  Positive  ...                   3         2.666667\n",
              "3  Are wha kaya bat hai  Positive  ...                   4         3.250000\n",
              "4    Wah kya baat likhi  Positive  ...                   3         4.000000\n",
              "\n",
              "[5 rows x 7 columns]"
            ]
          },
          "metadata": {
            "tags": []
          },
          "execution_count": 16
        }
      ]
    },
    {
      "cell_type": "markdown",
      "metadata": {
        "id": "6AuShEVwBX5A",
        "colab_type": "text"
      },
      "source": [
        "### Build the Pipeline"
      ]
    },
    {
      "cell_type": "code",
      "metadata": {
        "id": "vU-LU_b-BeJu",
        "colab_type": "code",
        "colab": {}
      },
      "source": [
        "# Set feature columns\n",
        "SEED = 37\n",
        "features = [col for col in df_processed.columns.values \n",
        "            if col  not in ['phrase', 'target']]\n",
        "num_features = [col for col in df_processed.columns.values \n",
        "                if col  not in ['phrase','target','processed']]\n",
        "target = 'target'"
      ],
      "execution_count": 17,
      "outputs": []
    },
    {
      "cell_type": "markdown",
      "metadata": {
        "id": "Uxtj6KeFKo1i",
        "colab_type": "text"
      },
      "source": [
        "**Note:** I tried under-sampling to balance out the dataset. It was actually cournter productive in terms of accuracy, so I removed it. For a real project, I would move on to balancing the dataset in additive ways, such as SMOTE or GAN."
      ]
    },
    {
      "cell_type": "code",
      "metadata": {
        "id": "OvvKtV671bZf",
        "colab_type": "code",
        "colab": {
          "base_uri": "https://localhost:8080/",
          "height": 34
        },
        "outputId": "5d58d330-2df2-497d-b2d3-6f63bf9ee184"
      },
      "source": [
        "# Split the data\n",
        "TRAIN_SPLIT = .8\n",
        "\n",
        "X_train, X_test, y_train, y_test = train_test_split(df_processed[features], \n",
        "                                                    df_processed[target],\n",
        "                                                    train_size=TRAIN_SPLIT,\n",
        "                                                    shuffle=True,\n",
        "                                                    random_state=SEED)\n",
        "print('{} training records'.format(len(X_train)))"
      ],
      "execution_count": 18,
      "outputs": [
        {
          "output_type": "stream",
          "text": [
            "16181 training records\n"
          ],
          "name": "stdout"
        }
      ]
    },
    {
      "cell_type": "code",
      "metadata": {
        "id": "FKMRgf_RIjB5",
        "colab_type": "code",
        "colab": {}
      },
      "source": [
        "# Text feature selector\n",
        "class TextSelector(BaseEstimator, TransformerMixin):\n",
        "    def __init__(self, key):\n",
        "        self.key = key\n",
        "\n",
        "    def fit(self, X, y=None):\n",
        "        return self\n",
        "\n",
        "    def transform(self, X):\n",
        "        return X[self.key]\n",
        "\n",
        "# Numeric feature selector    \n",
        "class NumericSelector(BaseEstimator, TransformerMixin):\n",
        "    def __init__(self, key):\n",
        "        self.key = key\n",
        "\n",
        "    def fit(self, X, y=None):\n",
        "        return self\n",
        "\n",
        "    def transform(self, X):\n",
        "        return X[[self.key]]"
      ],
      "execution_count": 19,
      "outputs": []
    },
    {
      "cell_type": "code",
      "metadata": {
        "id": "g13hMGwRSQf1",
        "colab_type": "code",
        "colab": {
          "base_uri": "https://localhost:8080/",
          "height": 51
        },
        "outputId": "593120ed-6e13-409f-a1f5-7daeabdb81df"
      },
      "source": [
        "tfidf_pipeline = Pipeline([\n",
        "                ('selector', TextSelector(key='processed')),\n",
        "                ('tfidf', TfidfVectorizer())])\n",
        "\n",
        "length_pipeline =  Pipeline([\n",
        "                ('selector', NumericSelector(key='length')),\n",
        "                ('standard', StandardScaler())\n",
        "            ])\n",
        "\n",
        "words_pipeline =  Pipeline([\n",
        "                ('selector', NumericSelector(key='num_words')),\n",
        "                ('standard', StandardScaler())\n",
        "            ])\n",
        "\n",
        "words_not_stopword_pipeline =  Pipeline([\n",
        "                ('selector', NumericSelector(key='words_not_stopwords')),\n",
        "                ('standard', StandardScaler())\n",
        "            ])\n",
        "\n",
        "avg_word_length_pipeline =  Pipeline([\n",
        "                ('selector', NumericSelector(key='avg_word_length')),\n",
        "                ('standard', StandardScaler())\n",
        "            ])\n",
        "\n",
        "feature_pipeline = FeatureUnion([('tfidf', tfidf_pipeline), \n",
        "                                 ('length', length_pipeline),\n",
        "                                 ('words', words_pipeline),\n",
        "                                 ('words_not_stopword', words_not_stopword_pipeline),\n",
        "                                 ('avg_word_length', avg_word_length_pipeline)])\n",
        "\n",
        "feature_processing = Pipeline([('features', feature_pipeline)])\n",
        "feature_processing.fit_transform(X_train)"
      ],
      "execution_count": 20,
      "outputs": [
        {
          "output_type": "execute_result",
          "data": {
            "text/plain": [
              "<16181x28885 sparse matrix of type '<class 'numpy.float64'>'\n",
              "\twith 251928 stored elements in Compressed Sparse Row format>"
            ]
          },
          "metadata": {
            "tags": []
          },
          "execution_count": 20
        }
      ]
    },
    {
      "cell_type": "code",
      "metadata": {
        "id": "KWnBfJKmjHlo",
        "colab_type": "code",
        "colab": {
          "base_uri": "https://localhost:8080/",
          "height": 34
        },
        "outputId": "18757094-dcca-4457-e7f8-453e6eee7ed1"
      },
      "source": [
        "# Encode the labels\n",
        "encoder = LabelEncoder()\n",
        "encoder.fit(y_train)\n",
        "encoder.classes_"
      ],
      "execution_count": 21,
      "outputs": [
        {
          "output_type": "execute_result",
          "data": {
            "text/plain": [
              "array(['Negative', 'Neutral', 'Positive'], dtype=object)"
            ]
          },
          "metadata": {
            "tags": []
          },
          "execution_count": 21
        }
      ]
    },
    {
      "cell_type": "code",
      "metadata": {
        "id": "Fbi2_dIujfKN",
        "colab_type": "code",
        "colab": {}
      },
      "source": [
        "y_train_enc = encoder.transform(y_train)\n",
        "y_test_enc = encoder.transform(y_test)"
      ],
      "execution_count": 22,
      "outputs": []
    },
    {
      "cell_type": "markdown",
      "metadata": {
        "id": "JjKssYfjZG79",
        "colab_type": "text"
      },
      "source": [
        "Lookin' good. I'm going to start building and evaluating some models."
      ]
    },
    {
      "cell_type": "markdown",
      "metadata": {
        "id": "uWKlNkgYZQdr",
        "colab_type": "text"
      },
      "source": [
        "## Build and Evaluate Models"
      ]
    },
    {
      "cell_type": "code",
      "metadata": {
        "id": "dqtl-CkPla2K",
        "colab_type": "code",
        "colab": {}
      },
      "source": [
        "tuned_parameters = [{'kernel': ['rbf'], 'gamma': [1e-3, 1e-4],'C': [1, 10]},\n",
        "                    {'kernel': ['linear'], 'C': [1, 10]}]\n",
        "\n",
        "scores = ['precision', 'recall']"
      ],
      "execution_count": 23,
      "outputs": []
    },
    {
      "cell_type": "markdown",
      "metadata": {
        "id": "cdJ3x1wuqNp6",
        "colab_type": "text"
      },
      "source": [
        "Since we are sensitive to identifying true negatives, I'm going to take a look at the best tuning options for precision and recall, based on SciKit Learn documentation [here](https://scikit-learn.org/stable/auto_examples/model_selection/plot_grid_search_digits.html), integrated into the development pipeline.\n",
        "\n",
        "Note: I'm going to do a limited grid search here. For a production solution, it would be more extensive.\n",
        "\n",
        "I am going to use 3 cross validation folds."
      ]
    },
    {
      "cell_type": "code",
      "metadata": {
        "id": "F75zRKQHZXB3",
        "colab_type": "code",
        "colab": {
          "base_uri": "https://localhost:8080/",
          "height": 1000
        },
        "outputId": "517048ac-809e-4231-b831-ee7425ed8a45"
      },
      "source": [
        "for score in scores:\n",
        "  print('Tuning hyper-parameters for %s \\n' % score)\n",
        "  print ('Creating pipeline instance.')\n",
        "  sentiment_pipeline = Pipeline([\n",
        "                ('features',feature_pipeline),\n",
        "                ('classifier', GridSearchCV(SVC(),\n",
        "                tuned_parameters, \n",
        "                scoring='%s_macro' % score,\n",
        "                verbose=10,\n",
        "                n_jobs=-1,\n",
        "                cv=3))])\n",
        " \n",
        "  print('Fitting the model.')\n",
        "  sentiment_pipeline.fit(X_train, y_train_enc)\n",
        "\n",
        "  print('Tuning hyper-parameters for %s \\n' % score)\n",
        "  print('Best parameters set found on development set: \\n')\n",
        "  print(sentiment_pipeline.named_steps['classifier'].best_params_, '\\n')\n",
        "  print(\"Grid scores on development set:\\n\")\n",
        "  means = sentiment_pipeline.named_steps['classifier'].cv_results_['mean_test_score']\n",
        "  stds = sentiment_pipeline.named_steps['classifier'].cv_results_['std_test_score']\n",
        "  for mean, std, params in zip(means, stds, sentiment_pipeline.named_steps['classifier'].cv_results_['params']):\n",
        "      print(\"%0.3f (+/-%0.03f) for %r\"\n",
        "            % (mean, std * 2, params))\n",
        "  print()\n",
        "  print('Detailed classification report:\\n')\n",
        "  print('The model is trained on the full development set.')\n",
        "  print('The scores are computed on the full evaluation set.\\n')\n",
        "  y_true, y_pred = y_test, sentiment_pipeline.predict(X_test)\n",
        "  print(classification_report(y_test_enc, y_pred), '\\n')"
      ],
      "execution_count": 24,
      "outputs": [
        {
          "output_type": "stream",
          "text": [
            "Tuning hyper-parameters for precision \n",
            "\n",
            "Creating pipeline instance.\n",
            "Fitting the model.\n",
            "Fitting 3 folds for each of 6 candidates, totalling 18 fits\n"
          ],
          "name": "stdout"
        },
        {
          "output_type": "stream",
          "text": [
            "[Parallel(n_jobs=-1)]: Using backend LokyBackend with 2 concurrent workers.\n",
            "[Parallel(n_jobs=-1)]: Done   1 tasks      | elapsed:   51.9s\n",
            "[Parallel(n_jobs=-1)]: Done   4 tasks      | elapsed:  1.7min\n",
            "[Parallel(n_jobs=-1)]: Done   9 tasks      | elapsed:  4.2min\n",
            "[Parallel(n_jobs=-1)]: Done  14 tasks      | elapsed:  5.9min\n",
            "[Parallel(n_jobs=-1)]: Done  18 out of  18 | elapsed:  9.1min finished\n"
          ],
          "name": "stderr"
        },
        {
          "output_type": "stream",
          "text": [
            "Tuning hyper-parameters for precision \n",
            "\n",
            "Best parameters set found on development set: \n",
            "\n",
            "{'C': 1, 'kernel': 'linear'} \n",
            "\n",
            "Grid scores on development set:\n",
            "\n",
            "0.301 (+/-0.007) for {'C': 1, 'gamma': 0.001, 'kernel': 'rbf'}\n",
            "0.288 (+/-0.005) for {'C': 1, 'gamma': 0.0001, 'kernel': 'rbf'}\n",
            "0.510 (+/-0.033) for {'C': 10, 'gamma': 0.001, 'kernel': 'rbf'}\n",
            "0.302 (+/-0.010) for {'C': 10, 'gamma': 0.0001, 'kernel': 'rbf'}\n",
            "0.648 (+/-0.013) for {'C': 1, 'kernel': 'linear'}\n",
            "0.604 (+/-0.003) for {'C': 10, 'kernel': 'linear'}\n",
            "\n",
            "Detailed classification report:\n",
            "\n",
            "The model is trained on the full development set.\n",
            "The scores are computed on the full evaluation set.\n",
            "\n",
            "              precision    recall  f1-score   support\n",
            "\n",
            "           0       0.66      0.50      0.57      1083\n",
            "           1       0.64      0.79      0.71      1744\n",
            "           2       0.70      0.62      0.66      1219\n",
            "\n",
            "    accuracy                           0.66      4046\n",
            "   macro avg       0.67      0.63      0.64      4046\n",
            "weighted avg       0.66      0.66      0.65      4046\n",
            " \n",
            "\n",
            "Tuning hyper-parameters for recall \n",
            "\n",
            "Creating pipeline instance.\n",
            "Fitting the model.\n",
            "Fitting 3 folds for each of 6 candidates, totalling 18 fits\n"
          ],
          "name": "stdout"
        },
        {
          "output_type": "stream",
          "text": [
            "[Parallel(n_jobs=-1)]: Using backend LokyBackend with 2 concurrent workers.\n",
            "[Parallel(n_jobs=-1)]: Done   1 tasks      | elapsed:   51.3s\n",
            "[Parallel(n_jobs=-1)]: Done   4 tasks      | elapsed:  1.7min\n",
            "[Parallel(n_jobs=-1)]: Done   9 tasks      | elapsed:  4.3min\n",
            "[Parallel(n_jobs=-1)]: Done  14 tasks      | elapsed:  6.0min\n",
            "[Parallel(n_jobs=-1)]: Done  18 out of  18 | elapsed:  9.2min finished\n"
          ],
          "name": "stderr"
        },
        {
          "output_type": "stream",
          "text": [
            "Tuning hyper-parameters for recall \n",
            "\n",
            "Best parameters set found on development set: \n",
            "\n",
            "{'C': 1, 'kernel': 'linear'} \n",
            "\n",
            "Grid scores on development set:\n",
            "\n",
            "0.364 (+/-0.005) for {'C': 1, 'gamma': 0.001, 'kernel': 'rbf'}\n",
            "0.336 (+/-0.001) for {'C': 1, 'gamma': 0.0001, 'kernel': 'rbf'}\n",
            "0.391 (+/-0.006) for {'C': 10, 'gamma': 0.001, 'kernel': 'rbf'}\n",
            "0.361 (+/-0.005) for {'C': 10, 'gamma': 0.0001, 'kernel': 'rbf'}\n",
            "0.611 (+/-0.011) for {'C': 1, 'kernel': 'linear'}\n",
            "0.595 (+/-0.004) for {'C': 10, 'kernel': 'linear'}\n",
            "\n",
            "Detailed classification report:\n",
            "\n",
            "The model is trained on the full development set.\n",
            "The scores are computed on the full evaluation set.\n",
            "\n",
            "              precision    recall  f1-score   support\n",
            "\n",
            "           0       0.66      0.50      0.57      1083\n",
            "           1       0.64      0.79      0.71      1744\n",
            "           2       0.70      0.62      0.66      1219\n",
            "\n",
            "    accuracy                           0.66      4046\n",
            "   macro avg       0.67      0.63      0.64      4046\n",
            "weighted avg       0.66      0.66      0.65      4046\n",
            " \n",
            "\n"
          ],
          "name": "stdout"
        }
      ]
    },
    {
      "cell_type": "markdown",
      "metadata": {
        "id": "ygZyG5Z1qw8B",
        "colab_type": "text"
      },
      "source": [
        "Finally, let's take a look at the confusion matrix to see how the model performed."
      ]
    },
    {
      "cell_type": "code",
      "metadata": {
        "id": "dVthH2SuhdoG",
        "colab_type": "code",
        "colab": {
          "base_uri": "https://localhost:8080/",
          "height": 460
        },
        "outputId": "f04f13ae-4b83-4ca1-860b-06328f601667"
      },
      "source": [
        "cm = confusion_matrix(y_test_enc, y_pred)\n",
        "fig = plt.figure(figsize = (10,7))\n",
        "ax = fig.add_subplot(111)\n",
        "cax = ax.matshow(cm)\n",
        "plt.title('Confusion matrix for SVC')\n",
        "fig.colorbar(cax)\n",
        "labels = ['Negative', 'Neutral', 'Positive']\n",
        "ax.set_xticklabels([''] + labels)\n",
        "ax.set_yticklabels([''] + labels)\n",
        "plt.xlabel('Predicted')\n",
        "plt.ylabel('True')\n",
        "plt.show()"
      ],
      "execution_count": 25,
      "outputs": [
        {
          "output_type": "display_data",
          "data": {
            "image/png": "[encoded data removed]",
            "text/plain": [
              "<Figure size 720x504 with 2 Axes>"
            ]
          },
          "metadata": {
            "tags": [],
            "needs_background": "light"
          }
        }
      ]
    },
    {
      "cell_type": "markdown",
      "metadata": {
        "id": "wKiyj8sNIZH6",
        "colab_type": "text"
      },
      "source": [
        "## Final Model Selection"
      ]
    },
    {
      "cell_type": "markdown",
      "metadata": {
        "id": "CYESXS9iIgx8",
        "colab_type": "text"
      },
      "source": [
        "Based on the metrics for precision, recall, and F1 scores, I am going to select the these hyperparameters for the final model:\n",
        "\n",
        "{'C': 1, 'kernel': 'linear'}\n",
        "\n",
        "This gives me a macro average precision of 0.67 and a recall of 0.63.\n",
        "\n",
        "I'm, not particularly happy with these results. In a production application, I would:\n",
        "\n",
        "1. Gather more labled data in Roman Urdu\n",
        "2. Balance out the dataset.\n",
        "\n",
        "However, for this work sample, I'm going to stop here. I've got stuff to do. Peace."
      ]
    }
  ]
}