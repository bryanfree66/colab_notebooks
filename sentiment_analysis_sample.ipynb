{
  "nbformat": 4,
  "nbformat_minor": 0,
  "metadata": {
    "colab": {
      "name": "sentiment_analysis_sample.ipynb",
      "provenance": [],
      "collapsed_sections": [],
      "toc_visible": true,
      "authorship_tag": "ABX9TyM3BpY6Cv7Bya0c+xOHzAtL",
      "include_colab_link": true
    },
    "kernelspec": {
      "name": "python3",
      "display_name": "Python 3"
    }
  },
  "cells": [
    {
      "cell_type": "markdown",
      "metadata": {
        "id": "view-in-github",
        "colab_type": "text"
      },
      "source": [
        "<a href=\"https://colab.research.google.com/github/bryanfree66/colab_notebooks/blob/master/sentiment_analysis_sample.ipynb\" target=\"_parent\"><img src=\"https://colab.research.google.com/assets/colab-badge.svg\" alt=\"Open In Colab\"/></a>"
      ]
    },
    {
      "cell_type": "markdown",
      "metadata": {
        "id": "2km3oZQn3_xL",
        "colab_type": "text"
      },
      "source": [
        "# Sentiment Identification Work Sample\n",
        "## Data Description\n",
        "\n",
        "\n",
        "1.   Number of records: 20000\n",
        "2.   Text data\n",
        "3.   Two string data type values per record\n",
        "4.   Tagged for Sentiment (Positive, Negative, Neutral)\n",
        "5.   The training data includes documents from a wide variety of sources\n",
        "\n",
        "[Dataset link](http://archive.ics.uci.edu/ml/datasets/Roman+Urdu+Data+Set)\n",
        "\n",
        "## Goal\n",
        "* Train a sentiment classifier on the corpus of the dataset \n",
        "* Maximize accuracy of the classifier\n",
        "* I want to be more sensitive to identifying negative\n",
        "\n",
        "## Plan of Work\n",
        "1. Load and clean up the data\n",
        "2. Do some exploratory data analysis\n",
        "3. Do some basic text feature engineering\n",
        "4. Train and evaluate model(s)\n",
        "5. Select best model based on accuracy"
      ]
    },
    {
      "cell_type": "code",
      "metadata": {
        "id": "QGUWnDVGYkyL",
        "colab_type": "code",
        "colab": {
          "base_uri": "https://localhost:8080/",
          "height": 156
        },
        "outputId": "8610029f-597b-4d08-a7e2-cddd0a5df94e"
      },
      "source": [
        "import pandas as pd\n",
        "import numpy as np\n",
        "import matplotlib.pyplot as plt\n",
        "import seaborn as sns\n",
        "import nltk\n",
        "import re\n",
        "import warnings\n",
        "from google.colab import drive\n",
        "from imblearn.under_sampling import RandomUnderSampler\n",
        "from sklearn.feature_extraction.text import TfidfVectorizer, CountVectorizer\n",
        "from sklearn.base import BaseEstimator, TransformerMixin\n",
        "from sklearn.linear_model import LogisticRegression\n",
        "from sklearn.model_selection import train_test_split, KFold\n",
        "from sklearn.metrics import confusion_matrix, accuracy_score\n",
        "from sklearn.pipeline import Pipeline\n",
        "from sklearn.preprocessing import LabelEncoder\n",
        "\n",
        "\n",
        "warnings.filterwarnings(\"ignore\")\n",
        "sns.set(style=\"darkgrid\")\n",
        "drive.mount('/content/drive')\n",
        "TRAIN_SPLIT = .8\n",
        "SEED = 32\n",
        "N_FOLDS = 3\n"
      ],
      "execution_count": 1,
      "outputs": [
        {
          "output_type": "stream",
          "text": [
            "/usr/local/lib/python3.6/dist-packages/statsmodels/tools/_testing.py:19: FutureWarning: pandas.util.testing is deprecated. Use the functions in the public API at pandas.testing instead.\n",
            "  import pandas.util.testing as tm\n"
          ],
          "name": "stderr"
        },
        {
          "output_type": "stream",
          "text": [
            "Drive already mounted at /content/drive; to attempt to forcibly remount, call drive.mount(\"/content/drive\", force_remount=True).\n"
          ],
          "name": "stdout"
        },
        {
          "output_type": "stream",
          "text": [
            "/usr/local/lib/python3.6/dist-packages/sklearn/externals/six.py:31: FutureWarning: The module is deprecated in version 0.21 and will be removed in version 0.23 since we've dropped support for Python 2.7. Please rely on the official version of six (https://pypi.org/project/six/).\n",
            "  \"(https://pypi.org/project/six/).\", FutureWarning)\n",
            "/usr/local/lib/python3.6/dist-packages/sklearn/utils/deprecation.py:144: FutureWarning: The sklearn.neighbors.base module is  deprecated in version 0.22 and will be removed in version 0.24. The corresponding classes / functions should instead be imported from sklearn.neighbors. Anything that cannot be imported from sklearn.neighbors is now part of the private API.\n",
            "  warnings.warn(message, FutureWarning)\n"
          ],
          "name": "stderr"
        }
      ]
    },
    {
      "cell_type": "markdown",
      "metadata": {
        "id": "yM7kV-HMEOEA",
        "colab_type": "text"
      },
      "source": [
        "### Load the Data"
      ]
    },
    {
      "cell_type": "code",
      "metadata": {
        "id": "V0mMybwQ3WNb",
        "colab_type": "code",
        "outputId": "91ee0c56-0054-4992-8499-504aca8edbaf",
        "colab": {
          "base_uri": "https://localhost:8080/",
          "height": 68
        }
      },
      "source": [
        "%%time\n",
        "# Use session storage\n",
        "#df = pd.read_csv('/content/data/roman_urdu/Roman Urdu DataSet.csv',\n",
        "#                 encoding='utf8')\n",
        "\n",
        "# Use Google Drive\n",
        "df = pd.read_csv('/content/drive/My Drive/working_data/roman_urdu/Roman Urdu DataSet.csv',\n",
        "                 encoding='utf8')\n",
        "\n",
        "# Save a clean copy for later\n",
        "clean_copy = df.copy()  \n",
        "print('Original data shape: {}'.format(df.shape))"
      ],
      "execution_count": 2,
      "outputs": [
        {
          "output_type": "stream",
          "text": [
            "Original data shape: (20228, 3)\n",
            "CPU times: user 42.7 ms, sys: 8.73 ms, total: 51.4 ms\n",
            "Wall time: 57.8 ms\n"
          ],
          "name": "stdout"
        }
      ]
    },
    {
      "cell_type": "markdown",
      "metadata": {
        "id": "EIhs3UkY7Hcw",
        "colab_type": "text"
      },
      "source": [
        "I can see right away the dataset is not the shape I expected. The data description has two columns, but we seem to be picking up an extra column from the CSV."
      ]
    },
    {
      "cell_type": "code",
      "metadata": {
        "id": "MlcrfdKA530Y",
        "colab_type": "code",
        "outputId": "b01324da-be74-464c-cb66-1bfd53aee2a3",
        "colab": {
          "base_uri": "https://localhost:8080/",
          "height": 204
        }
      },
      "source": [
        "df.head()"
      ],
      "execution_count": 3,
      "outputs": [
        {
          "output_type": "execute_result",
          "data": {
            "text/html": [
              "<div>\n",
              "<style scoped>\n",
              "    .dataframe tbody tr th:only-of-type {\n",
              "        vertical-align: middle;\n",
              "    }\n",
              "\n",
              "    .dataframe tbody tr th {\n",
              "        vertical-align: top;\n",
              "    }\n",
              "\n",
              "    .dataframe thead th {\n",
              "        text-align: right;\n",
              "    }\n",
              "</style>\n",
              "<table border=\"1\" class=\"dataframe\">\n",
              "  <thead>\n",
              "    <tr style=\"text-align: right;\">\n",
              "      <th></th>\n",
              "      <th>Sai kha ya her kisi kay bus ki bat nhi hai lakin main ki hal kal bi Aj aur aj bi sirf Aus say bus</th>\n",
              "      <th>Positive</th>\n",
              "      <th>Unnamed: 2</th>\n",
              "    </tr>\n",
              "  </thead>\n",
              "  <tbody>\n",
              "    <tr>\n",
              "      <th>0</th>\n",
              "      <td>sahi bt h</td>\n",
              "      <td>Positive</td>\n",
              "      <td>NaN</td>\n",
              "    </tr>\n",
              "    <tr>\n",
              "      <th>1</th>\n",
              "      <td>Kya bt hai,</td>\n",
              "      <td>Positive</td>\n",
              "      <td>NaN</td>\n",
              "    </tr>\n",
              "    <tr>\n",
              "      <th>2</th>\n",
              "      <td>Wah je wah</td>\n",
              "      <td>Positive</td>\n",
              "      <td>NaN</td>\n",
              "    </tr>\n",
              "    <tr>\n",
              "      <th>3</th>\n",
              "      <td>Are wha kaya bat hai</td>\n",
              "      <td>Positive</td>\n",
              "      <td>NaN</td>\n",
              "    </tr>\n",
              "    <tr>\n",
              "      <th>4</th>\n",
              "      <td>Wah kya baat likhi</td>\n",
              "      <td>Positive</td>\n",
              "      <td>NaN</td>\n",
              "    </tr>\n",
              "  </tbody>\n",
              "</table>\n",
              "</div>"
            ],
            "text/plain": [
              "  Sai kha ya her kisi kay bus ki bat nhi hai lakin main ki hal kal bi Aj aur aj bi sirf Aus say bus  ... Unnamed: 2\n",
              "0                                          sahi bt h                                                 ...        NaN\n",
              "1                                        Kya bt hai,                                                 ...        NaN\n",
              "2                                         Wah je wah                                                 ...        NaN\n",
              "3                               Are wha kaya bat hai                                                 ...        NaN\n",
              "4                                 Wah kya baat likhi                                                 ...        NaN\n",
              "\n",
              "[5 rows x 3 columns]"
            ]
          },
          "metadata": {
            "tags": []
          },
          "execution_count": 3
        }
      ]
    },
    {
      "cell_type": "markdown",
      "metadata": {
        "id": "gesF1OKB7csf",
        "colab_type": "text"
      },
      "source": [
        "It looks like an extra column I wasn`t expecting. I´m also going to rename the first columns. I will set up a data pipeline later to automate all of the changes.  I´ll start by renaming the columns for convenience."
      ]
    },
    {
      "cell_type": "markdown",
      "metadata": {
        "id": "ixSd6EWwEXod",
        "colab_type": "text"
      },
      "source": [
        "### Initial Cleaning"
      ]
    },
    {
      "cell_type": "code",
      "metadata": {
        "id": "WO85PB2q9g0w",
        "colab_type": "code",
        "colab": {}
      },
      "source": [
        "colunm_names = ['phrase','target','unexpected']\n",
        "df.columns = colunm_names"
      ],
      "execution_count": 0,
      "outputs": []
    },
    {
      "cell_type": "code",
      "metadata": {
        "id": "1Z9R4TW57iaO",
        "colab_type": "code",
        "outputId": "a4beed48-f992-4c17-cdd7-327e1ffc6593",
        "colab": {
          "base_uri": "https://localhost:8080/",
          "height": 204
        }
      },
      "source": [
        "df.head()"
      ],
      "execution_count": 5,
      "outputs": [
        {
          "output_type": "execute_result",
          "data": {
            "text/html": [
              "<div>\n",
              "<style scoped>\n",
              "    .dataframe tbody tr th:only-of-type {\n",
              "        vertical-align: middle;\n",
              "    }\n",
              "\n",
              "    .dataframe tbody tr th {\n",
              "        vertical-align: top;\n",
              "    }\n",
              "\n",
              "    .dataframe thead th {\n",
              "        text-align: right;\n",
              "    }\n",
              "</style>\n",
              "<table border=\"1\" class=\"dataframe\">\n",
              "  <thead>\n",
              "    <tr style=\"text-align: right;\">\n",
              "      <th></th>\n",
              "      <th>phrase</th>\n",
              "      <th>target</th>\n",
              "      <th>unexpected</th>\n",
              "    </tr>\n",
              "  </thead>\n",
              "  <tbody>\n",
              "    <tr>\n",
              "      <th>0</th>\n",
              "      <td>sahi bt h</td>\n",
              "      <td>Positive</td>\n",
              "      <td>NaN</td>\n",
              "    </tr>\n",
              "    <tr>\n",
              "      <th>1</th>\n",
              "      <td>Kya bt hai,</td>\n",
              "      <td>Positive</td>\n",
              "      <td>NaN</td>\n",
              "    </tr>\n",
              "    <tr>\n",
              "      <th>2</th>\n",
              "      <td>Wah je wah</td>\n",
              "      <td>Positive</td>\n",
              "      <td>NaN</td>\n",
              "    </tr>\n",
              "    <tr>\n",
              "      <th>3</th>\n",
              "      <td>Are wha kaya bat hai</td>\n",
              "      <td>Positive</td>\n",
              "      <td>NaN</td>\n",
              "    </tr>\n",
              "    <tr>\n",
              "      <th>4</th>\n",
              "      <td>Wah kya baat likhi</td>\n",
              "      <td>Positive</td>\n",
              "      <td>NaN</td>\n",
              "    </tr>\n",
              "  </tbody>\n",
              "</table>\n",
              "</div>"
            ],
            "text/plain": [
              "                 phrase    target unexpected\n",
              "0             sahi bt h  Positive        NaN\n",
              "1           Kya bt hai,  Positive        NaN\n",
              "2            Wah je wah  Positive        NaN\n",
              "3  Are wha kaya bat hai  Positive        NaN\n",
              "4    Wah kya baat likhi  Positive        NaN"
            ]
          },
          "metadata": {
            "tags": []
          },
          "execution_count": 5
        }
      ]
    },
    {
      "cell_type": "code",
      "metadata": {
        "id": "TGhGQeE79Iro",
        "colab_type": "code",
        "outputId": "7a23ced2-f8ae-4d7d-daba-f915025d0ad7",
        "colab": {
          "base_uri": "https://localhost:8080/",
          "height": 136
        }
      },
      "source": [
        "df['unexpected'].value_counts()"
      ],
      "execution_count": 6,
      "outputs": [
        {
          "output_type": "execute_result",
          "data": {
            "text/plain": [
              "till here           2\n",
              "----------          1\n",
              "-------             1\n",
              "9090                1\n",
              "----------------    1\n",
              "------              1\n",
              "Name: unexpected, dtype: int64"
            ]
          },
          "metadata": {
            "tags": []
          },
          "execution_count": 6
        }
      ]
    },
    {
      "cell_type": "markdown",
      "metadata": {
        "id": "ReOgJzTNAZTg",
        "colab_type": "text"
      },
      "source": [
        "I´m going to go ahead and drop the extra column."
      ]
    },
    {
      "cell_type": "code",
      "metadata": {
        "id": "aNE-VsibAhRO",
        "colab_type": "code",
        "colab": {}
      },
      "source": [
        "df.drop('unexpected', axis=1, inplace=True)"
      ],
      "execution_count": 0,
      "outputs": []
    },
    {
      "cell_type": "markdown",
      "metadata": {
        "id": "k9vUZ87DYtbZ",
        "colab_type": "text"
      },
      "source": [
        "## Data Exploration\n",
        "\n",
        "Let´s take a look at the details of the dataset."
      ]
    },
    {
      "cell_type": "markdown",
      "metadata": {
        "id": "byFSFMBAbUCR",
        "colab_type": "text"
      },
      "source": [
        "### View Distribution of Targets"
      ]
    },
    {
      "cell_type": "code",
      "metadata": {
        "id": "DtDvYoCDA9yP",
        "colab_type": "code",
        "outputId": "bf594ee9-edcc-4a06-a9a5-ab615ce3e908",
        "colab": {
          "base_uri": "https://localhost:8080/",
          "height": 102
        }
      },
      "source": [
        "phrase_col = 'phrase'\n",
        "target_col = 'target'\n",
        "df[target_col].value_counts()"
      ],
      "execution_count": 8,
      "outputs": [
        {
          "output_type": "execute_result",
          "data": {
            "text/plain": [
              "Neutral     8929\n",
              "Positive    6012\n",
              "Negative    5286\n",
              "Neative        1\n",
              "Name: target, dtype: int64"
            ]
          },
          "metadata": {
            "tags": []
          },
          "execution_count": 8
        }
      ]
    },
    {
      "cell_type": "markdown",
      "metadata": {
        "id": "qSEInIfqB-SS",
        "colab_type": "text"
      },
      "source": [
        "We have an unexpected value in our labels. We will have to account for that in the pipeline. I´m going to drop it, because I can´t automate for every spelling error in the labels."
      ]
    },
    {
      "cell_type": "code",
      "metadata": {
        "id": "34gKxbopCeYj",
        "colab_type": "code",
        "outputId": "619e59cc-1888-4a4d-8943-bafe2909a32d",
        "colab": {
          "base_uri": "https://localhost:8080/",
          "height": 85
        }
      },
      "source": [
        "correct_labels = ['Positive', 'Negative', 'Neutral']\n",
        "df = df[df.target.isin(correct_labels)]\n",
        "df[target_col].value_counts()"
      ],
      "execution_count": 9,
      "outputs": [
        {
          "output_type": "execute_result",
          "data": {
            "text/plain": [
              "Neutral     8929\n",
              "Positive    6012\n",
              "Negative    5286\n",
              "Name: target, dtype: int64"
            ]
          },
          "metadata": {
            "tags": []
          },
          "execution_count": 9
        }
      ]
    },
    {
      "cell_type": "code",
      "metadata": {
        "id": "Ri1RqxKQYzze",
        "colab_type": "code",
        "outputId": "f61d483c-a63f-4571-c10f-9fa881edb3a8",
        "colab": {
          "base_uri": "https://localhost:8080/",
          "height": 560
        }
      },
      "source": [
        "plt.figure(figsize=(12,8))\n",
        "sns.countplot(x=target_col, data=df)\n",
        "plt.ylabel('Frequency', fontsize=12)\n",
        "plt.xlabel('Class Count', fontsize=12)\n",
        "plt.xticks(rotation='vertical')\n",
        "plt.title(\"Frequency of Classes\", fontsize=15)\n",
        "plt.show()"
      ],
      "execution_count": 10,
      "outputs": [
        {
          "output_type": "display_data",
          "data": {
            "image/png": "[encoded data removed]",
            "text/plain": [
              "<Figure size 864x576 with 1 Axes>"
            ]
          },
          "metadata": {
            "tags": [],
            "needs_background": "light"
          }
        }
      ]
    },
    {
      "cell_type": "markdown",
      "metadata": {
        "id": "ExBMB7osbHDf",
        "colab_type": "text"
      },
      "source": [
        "We have quite a few more neutral reviews than positive and negative. The positive and negative counts are close enough.\n",
        "\n",
        "**`Requirement:`** One of the requirements of the work sample is to document how data limitations impact the result, and what I might do on a larger project.\n",
        "\n",
        "When the class distribution is unbalanced, the model favors predicting the most frequent class. Accuracy can be a poor choice of evaluation metric for a classifier if the data is unbalanced as well.\n",
        "\n",
        "On a larger project, I might consider a technique such as GAN minority oversampling to balance out the dataset.\n",
        "\n",
        "The simplest way to fix imbalanced dataset is simply balancing them by oversampling instances of the minority class or undersampling instances of the majority class. That is what I will choose to do in this case.\n",
        "\n"
      ]
    },
    {
      "cell_type": "code",
      "metadata": {
        "id": "6orv8-zOdi78",
        "colab_type": "code",
        "outputId": "b03d794d-cd9d-46bc-874d-b55ba9c4aa98",
        "colab": {
          "base_uri": "https://localhost:8080/",
          "height": 173
        }
      },
      "source": [
        "df.describe()"
      ],
      "execution_count": 11,
      "outputs": [
        {
          "output_type": "execute_result",
          "data": {
            "text/html": [
              "<div>\n",
              "<style scoped>\n",
              "    .dataframe tbody tr th:only-of-type {\n",
              "        vertical-align: middle;\n",
              "    }\n",
              "\n",
              "    .dataframe tbody tr th {\n",
              "        vertical-align: top;\n",
              "    }\n",
              "\n",
              "    .dataframe thead th {\n",
              "        text-align: right;\n",
              "    }\n",
              "</style>\n",
              "<table border=\"1\" class=\"dataframe\">\n",
              "  <thead>\n",
              "    <tr style=\"text-align: right;\">\n",
              "      <th></th>\n",
              "      <th>phrase</th>\n",
              "      <th>target</th>\n",
              "    </tr>\n",
              "  </thead>\n",
              "  <tbody>\n",
              "    <tr>\n",
              "      <th>count</th>\n",
              "      <td>20226</td>\n",
              "      <td>20227</td>\n",
              "    </tr>\n",
              "    <tr>\n",
              "      <th>unique</th>\n",
              "      <td>19662</td>\n",
              "      <td>3</td>\n",
              "    </tr>\n",
              "    <tr>\n",
              "      <th>top</th>\n",
              "      <td>Good</td>\n",
              "      <td>Neutral</td>\n",
              "    </tr>\n",
              "    <tr>\n",
              "      <th>freq</th>\n",
              "      <td>23</td>\n",
              "      <td>8929</td>\n",
              "    </tr>\n",
              "  </tbody>\n",
              "</table>\n",
              "</div>"
            ],
            "text/plain": [
              "       phrase   target\n",
              "count   20226    20227\n",
              "unique  19662        3\n",
              "top      Good  Neutral\n",
              "freq       23     8929"
            ]
          },
          "metadata": {
            "tags": []
          },
          "execution_count": 11
        }
      ]
    },
    {
      "cell_type": "markdown",
      "metadata": {
        "id": "1k2pGpUqcPKq",
        "colab_type": "text"
      },
      "source": [
        "### Check for Empty Records"
      ]
    },
    {
      "cell_type": "code",
      "metadata": {
        "id": "a0CRH9djEuX1",
        "colab_type": "code",
        "outputId": "fc779347-2ebb-4ff3-b946-fdf2a1c3b9d2",
        "colab": {
          "base_uri": "https://localhost:8080/",
          "height": 68
        }
      },
      "source": [
        "df.isnull().sum()"
      ],
      "execution_count": 12,
      "outputs": [
        {
          "output_type": "execute_result",
          "data": {
            "text/plain": [
              "phrase    1\n",
              "target    0\n",
              "dtype: int64"
            ]
          },
          "metadata": {
            "tags": []
          },
          "execution_count": 12
        }
      ]
    },
    {
      "cell_type": "markdown",
      "metadata": {
        "id": "u0N8H9HSElHv",
        "colab_type": "text"
      },
      "source": [
        "There is one null review. I will deal with that in a bit.\n",
        "\n"
      ]
    },
    {
      "cell_type": "markdown",
      "metadata": {
        "id": "4c3R4fvhG4Mq",
        "colab_type": "text"
      },
      "source": [
        "### Duplicate Rows Check"
      ]
    },
    {
      "cell_type": "code",
      "metadata": {
        "id": "J1sj7uQJG_0_",
        "colab_type": "code",
        "outputId": "57f4d53a-81d0-49f0-a124-6232285a9ada",
        "colab": {
          "base_uri": "https://localhost:8080/",
          "height": 255
        }
      },
      "source": [
        "print(df[df.duplicated(keep='first')])"
      ],
      "execution_count": 13,
      "outputs": [
        {
          "output_type": "stream",
          "text": [
            "                                                  phrase    target\n",
            "19                                          jee ye to he  Positive\n",
            "411                                             Hahahaha  Positive\n",
            "585      Kabhi aap dusro k lye Dil se dua mang kr dekho   Positive\n",
            "596    Karachi K Badalte Hue Halaat Or Nit Nayi Faida...  Positive\n",
            "602    Aaj Bhi Shehar Me Target Killing Ka Koi Waqia ...  Positive\n",
            "...                                                  ...       ...\n",
            "17581  Or agr ye jhota wada howa to pti waly khud is ...  Negative\n",
            "18207                              Conse colr may chaiye   Neutral\n",
            "18354  Dhoka ha ye site plx mat Len ink products frau...  Negative\n",
            "18363  Dhoka ha ye site plx mat Len ink products frau...  Negative\n",
            "19543                                           Kia huwa   Neutral\n",
            "\n",
            "[543 rows x 2 columns]\n"
          ],
          "name": "stdout"
        }
      ]
    },
    {
      "cell_type": "markdown",
      "metadata": {
        "id": "YBKySxG0J3Fg",
        "colab_type": "text"
      },
      "source": [
        "I'm going to drop those duplicates later."
      ]
    },
    {
      "cell_type": "markdown",
      "metadata": {
        "id": "DoQSlwgrXK5G",
        "colab_type": "text"
      },
      "source": [
        "## Feature Engineering\n",
        "\n",
        "Now that we have discovered the basic cleanup procedures required, I am going to some basic text feature engineering.\n",
        "\n",
        "**`Requirement:`**  The requirements from the customer specify evolving this solution into a multilingual sentiment application. \n",
        "\n",
        "For this work sample, I have to predict sentiment in Roman Urdu, which is not a supported language by common Python natural language processing tools. So, I have to build my own custom corpus and vocabulary.\n",
        "\n",
        "\n",
        "For a production system, if the client requirements did not involve unsupported languages, I would put all of the data preperation and feature engineering steps into an SKLearn pipeline. I this would produce more repeatable and reliable model training process.\n",
        "\n",
        "An academic paper on multilingual pipelines can be found [here](https://www.frederikhogenboom.nl/work/papers/wise11-slang.pdf).\n",
        "\n",
        "I might still put the training and evaluation bits into a pipeline, just to demonstrate the concepts."
      ]
    },
    {
      "cell_type": "code",
      "metadata": {
        "id": "68vtEA-N-Ptr",
        "colab_type": "code",
        "colab": {}
      },
      "source": [
        "# Revert to a clean copy\n",
        "df = clean_copy.copy()\n",
        "\n",
        "# Basic clean up\n",
        "df.columns = ['phrase', 'target', 'unexpected']\n",
        "df.drop('unexpected', axis=1, inplace=True)\n",
        "df.dropna(inplace=True)\n",
        "df.drop_duplicates(keep='first', inplace = True)\n",
        "df = df[df.target.isin(['Positive', 'Negative', 'Neutral'])]"
      ],
      "execution_count": 0,
      "outputs": []
    },
    {
      "cell_type": "markdown",
      "metadata": {
        "id": "kFt9VrD7k2cO",
        "colab_type": "text"
      },
      "source": [
        "### Encode the Labels"
      ]
    },
    {
      "cell_type": "code",
      "metadata": {
        "id": "g13hMGwRSQf1",
        "colab_type": "code",
        "colab": {}
      },
      "source": [
        "# Target selection and encoding\n",
        "encoder = LabelEncoder()\n",
        "targets = df.iloc[:,1].values\n",
        "y = encoder.fit_transform(targets)\n",
        "y_len = len(y)"
      ],
      "execution_count": 0,
      "outputs": []
    },
    {
      "cell_type": "markdown",
      "metadata": {
        "id": "MWcV6FEp-Trs",
        "colab_type": "text"
      },
      "source": [
        "### Create A Roman Urdu Corpus"
      ]
    },
    {
      "cell_type": "markdown",
      "metadata": {
        "id": "Hdfb9VQIcJ8f",
        "colab_type": "text"
      },
      "source": [
        "Roman Urdu stopwords list from [GitHub](https://github.com/mirfan899/roman-urdu-stopwords/blob/master/stopwords.txt)."
      ]
    },
    {
      "cell_type": "code",
      "metadata": {
        "id": "KwIYX3ZO9L_U",
        "colab_type": "code",
        "colab": {}
      },
      "source": [
        "corpus = []\n",
        "stopwords = ['ai', 'ayi', 'hy', 'hai', 'main', 'ki', 'tha', 'koi', 'ko', 'sy', \n",
        "           'woh', 'bhi', 'aur', 'wo', 'yeh', 'rha', 'hota', 'ho', 'ga', 'ka', \n",
        "           'le', 'lye', 'kr', 'kar', 'lye', 'liye', 'hotay', 'waisay', 'gya', \n",
        "           'gaya', 'kch', 'ab', 'thy', 'thay', 'houn', 'hain', 'han', 'to', \n",
        "           'is', 'hi', 'jo', 'kya', 'thi', 'se', 'pe', 'phr', 'wala', 'waisay', \n",
        "           'us', 'na', 'ny', 'hun', 'rha', 'raha', 'ja', 'rahay', 'abi', 'uski', \n",
        "           'ne', 'haan', 'acha', 'nai', 'sent', 'photo', 'you', 'kafi', 'gai', \n",
        "           'rhy', 'kuch', 'jata', 'aye', 'ya', 'dono', 'hoa', 'aese', 'de', \n",
        "           'wohi', 'jati', 'jb', 'krta', 'lg', 'rahi', 'hui', 'karna', 'krna', \n",
        "           'gi', 'hova', 'yehi', 'jana', 'jye', 'chal', 'mil', 'tu', 'hum', \n",
        "           'par', 'hay', 'kis', 'sb', 'gy', 'dain', 'krny', 'tou']\n",
        "for i in range(0, y_len):\n",
        "    phrase = re.sub('[^a-zA-Z]', ' ', df.iloc[:,0].values[i])\n",
        "    phrase = phrase.lower()\n",
        "    phrase = phrase.split()\n",
        "    phrase = [word for word in phrase if not word in stopwords]\n",
        "    phrase = ' '.join(phrase)\n",
        "    corpus.append(phrase)"
      ],
      "execution_count": 0,
      "outputs": []
    },
    {
      "cell_type": "code",
      "metadata": {
        "id": "klHu-RiB_-pa",
        "colab_type": "code",
        "colab": {
          "base_uri": "https://localhost:8080/",
          "height": 34
        },
        "outputId": "2e2110e8-d84b-4257-dcd7-accc992a4726"
      },
      "source": [
        "print('Length of corpus: {}'.format(len(corpus)))"
      ],
      "execution_count": 17,
      "outputs": [
        {
          "output_type": "stream",
          "text": [
            "Length of corpus: 19683\n"
          ],
          "name": "stdout"
        }
      ]
    },
    {
      "cell_type": "markdown",
      "metadata": {
        "id": "4LlFJNATZnh9",
        "colab_type": "text"
      },
      "source": [
        "### Build the Vocabulary"
      ]
    },
    {
      "cell_type": "code",
      "metadata": {
        "id": "0SPdP-cgVYM8",
        "colab_type": "code",
        "colab": {}
      },
      "source": [
        "vectorizer = CountVectorizer(max_features=2500)\n",
        "X = vectorizer.fit_transform(corpus).toarray() "
      ],
      "execution_count": 0,
      "outputs": []
    },
    {
      "cell_type": "markdown",
      "metadata": {
        "id": "HvoX8EWfjnm_",
        "colab_type": "text"
      },
      "source": [
        "### Under-sampling to Balance the Dataset"
      ]
    },
    {
      "cell_type": "code",
      "metadata": {
        "id": "Mf618aj9l2xZ",
        "colab_type": "code",
        "colab": {}
      },
      "source": [
        "rus = RandomUnderSampler(random_state=17)\n",
        "X_resampled, y_resampled = rus.fit_resample(X, y)"
      ],
      "execution_count": 0,
      "outputs": []
    },
    {
      "cell_type": "markdown",
      "metadata": {
        "id": "4UYfXvXXB2Bm",
        "colab_type": "text"
      },
      "source": [
        "### Make Test Train Split"
      ]
    },
    {
      "cell_type": "code",
      "metadata": {
        "id": "OvvKtV671bZf",
        "colab_type": "code",
        "colab": {}
      },
      "source": [
        "  \n",
        "X_train, X_test, y_train, y_test = train_test_split(X_resampled, y_resampled, \n",
        "                                                    train_size=TRAIN_SPLIT,\n",
        "                                                    shuffle=True,\n",
        "                                                    random_state=SEED)\n",
        "folds = KFold(n_splits = N_FOLDS, shuffle=True, random_state=SEED)"
      ],
      "execution_count": 0,
      "outputs": []
    },
    {
      "cell_type": "markdown",
      "metadata": {
        "id": "rnFN33x-Tb41",
        "colab_type": "text"
      },
      "source": [
        "## Build and Train the Classifiers"
      ]
    },
    {
      "cell_type": "code",
      "metadata": {
        "id": "5WHao3h1Tabm",
        "colab_type": "code",
        "colab": {
          "base_uri": "https://localhost:8080/",
          "height": 102
        },
        "outputId": "15044d0c-e710-4e2b-fea3-1bc1969871e7"
      },
      "source": [
        "lr_model=LogisticRegression()\n",
        "lr_model.fit(X_train,y_train)"
      ],
      "execution_count": 21,
      "outputs": [
        {
          "output_type": "execute_result",
          "data": {
            "text/plain": [
              "LogisticRegression(C=1.0, class_weight=None, dual=False, fit_intercept=True,\n",
              "                   intercept_scaling=1, l1_ratio=None, max_iter=100,\n",
              "                   multi_class='auto', n_jobs=None, penalty='l2',\n",
              "                   random_state=None, solver='lbfgs', tol=0.0001, verbose=0,\n",
              "                   warm_start=False)"
            ]
          },
          "metadata": {
            "tags": []
          },
          "execution_count": 21
        }
      ]
    },
    {
      "cell_type": "code",
      "metadata": {
        "id": "PDgtJlkthyIc",
        "colab_type": "code",
        "colab": {
          "base_uri": "https://localhost:8080/",
          "height": 85
        },
        "outputId": "d9486dcf-5de0-4533-8227-00819bb9226f"
      },
      "source": [
        "y_pred=lr_model.predict(X_test)\n",
        "lr_matrix=confusion_matrix(y_test,y_pred)\n",
        "print(lr_matrix)\n",
        "print('LR Model Acc: {} '.format(accuracy_score(y_test, y_pred)))"
      ],
      "execution_count": 22,
      "outputs": [
        {
          "output_type": "stream",
          "text": [
            "[[596 283 145]\n",
            " [191 687 161]\n",
            " [186 270 628]]\n",
            "LR Model Acc: 0.6072449952335558 \n"
          ],
          "name": "stdout"
        }
      ]
    }
  ]
}