{
  "nbformat": 4,
  "nbformat_minor": 0,
  "metadata": {
    "colab": {
      "name": "sentiment_analysis_sample.ipynb",
      "provenance": [],
      "collapsed_sections": [],
      "toc_visible": true,
      "authorship_tag": "ABX9TyOCe5wP/z4q+OX3aajMssA4",
      "include_colab_link": true
    },
    "kernelspec": {
      "name": "python3",
      "display_name": "Python 3"
    }
  },
  "cells": [
    {
      "cell_type": "markdown",
      "metadata": {
        "id": "view-in-github",
        "colab_type": "text"
      },
      "source": [
        "<a href=\"https://colab.research.google.com/github/bryanfree66/colab_notebooks/blob/master/sentiment_analysis_sample.ipynb\" target=\"_parent\"><img src=\"https://colab.research.google.com/assets/colab-badge.svg\" alt=\"Open In Colab\"/></a>"
      ]
    },
    {
      "cell_type": "markdown",
      "metadata": {
        "id": "2km3oZQn3_xL",
        "colab_type": "text"
      },
      "source": [
        "# Sentiment Identification Work Sample\n",
        "## Data Description\n",
        "\n",
        "\n",
        "1.   Number of records: 20000\n",
        "2.   Text data\n",
        "3.   Two string data type values per record\n",
        "4.   Tagged for Sentiment (Positive, Negative, Neutral)\n",
        "5.   The training data includes documents from a wide variety of sources\n",
        "\n",
        "[Dataset link](http://archive.ics.uci.edu/ml/datasets/Roman+Urdu+Data+Set)\n",
        "\n",
        "## Goal\n",
        "* Train a sentiment classifier on the corpus of the dataset \n",
        "* Maximize accuracy of the classifier\n",
        "* I want to be more sensitive to identifying negative\n",
        "\n",
        "## Plan of Work\n",
        "1. Load and clean up the data\n",
        "2. Do some exploratory data analysis\n",
        "3. Do some basic text feature engineering\n",
        "4. Train and evaluate model(s)\n",
        "5. Select best model based on accuracy"
      ]
    },
    {
      "cell_type": "code",
      "metadata": {
        "id": "QGUWnDVGYkyL",
        "colab_type": "code",
        "colab": {
          "base_uri": "https://localhost:8080/",
          "height": 156
        },
        "outputId": "35a567cf-99de-4969-f4da-a58bf80398e1"
      },
      "source": [
        "import pandas as pd\n",
        "import numpy as np\n",
        "import matplotlib.pyplot as plt\n",
        "import seaborn as sns\n",
        "import nltk\n",
        "import re\n",
        "import warnings\n",
        "from google.colab import drive\n",
        "from imblearn.under_sampling import RandomUnderSampler\n",
        "from sklearn.feature_extraction import text\n",
        "from sklearn.feature_extraction.text import TfidfVectorizer, CountVectorizer\n",
        "from sklearn.base import BaseEstimator, TransformerMixin\n",
        "from sklearn.ensemble import RandomForestClassifier\n",
        "from sklearn.model_selection import train_test_split, KFold\n",
        "from sklearn.metrics import confusion_matrix, accuracy_score\n",
        "from sklearn.pipeline import Pipeline, FeatureUnion\n",
        "from sklearn.preprocessing import LabelEncoder, StandardScaler\n",
        "\n",
        "warnings.filterwarnings(\"ignore\")\n",
        "drive.mount('/content/drive')"
      ],
      "execution_count": 1,
      "outputs": [
        {
          "output_type": "stream",
          "text": [
            "/usr/local/lib/python3.6/dist-packages/statsmodels/tools/_testing.py:19: FutureWarning: pandas.util.testing is deprecated. Use the functions in the public API at pandas.testing instead.\n",
            "  import pandas.util.testing as tm\n"
          ],
          "name": "stderr"
        },
        {
          "output_type": "stream",
          "text": [
            "Drive already mounted at /content/drive; to attempt to forcibly remount, call drive.mount(\"/content/drive\", force_remount=True).\n"
          ],
          "name": "stdout"
        },
        {
          "output_type": "stream",
          "text": [
            "/usr/local/lib/python3.6/dist-packages/sklearn/externals/six.py:31: FutureWarning: The module is deprecated in version 0.21 and will be removed in version 0.23 since we've dropped support for Python 2.7. Please rely on the official version of six (https://pypi.org/project/six/).\n",
            "  \"(https://pypi.org/project/six/).\", FutureWarning)\n",
            "/usr/local/lib/python3.6/dist-packages/sklearn/utils/deprecation.py:144: FutureWarning: The sklearn.neighbors.base module is  deprecated in version 0.22 and will be removed in version 0.24. The corresponding classes / functions should instead be imported from sklearn.neighbors. Anything that cannot be imported from sklearn.neighbors is now part of the private API.\n",
            "  warnings.warn(message, FutureWarning)\n"
          ],
          "name": "stderr"
        }
      ]
    },
    {
      "cell_type": "markdown",
      "metadata": {
        "id": "yM7kV-HMEOEA",
        "colab_type": "text"
      },
      "source": [
        "### Load the Data"
      ]
    },
    {
      "cell_type": "code",
      "metadata": {
        "id": "V0mMybwQ3WNb",
        "colab_type": "code",
        "outputId": "40201d5a-8e3e-49d7-ad3a-3110e79cb49c",
        "colab": {
          "base_uri": "https://localhost:8080/",
          "height": 68
        }
      },
      "source": [
        "%%time\n",
        "# Use session storage\n",
        "#df = pd.read_csv('/content/data/roman_urdu/Roman Urdu DataSet.csv',\n",
        "#                 encoding='utf8')\n",
        "\n",
        "# Use Google Drive\n",
        "df = pd.read_csv('/content/drive/My Drive/working_data/roman_urdu/Roman Urdu DataSet.csv',\n",
        "                 encoding='utf8')\n",
        "\n",
        "# Save a clean copy for later\n",
        "clean_copy = df.copy()  \n",
        "print('Original data shape: {}'.format(df.shape))"
      ],
      "execution_count": 2,
      "outputs": [
        {
          "output_type": "stream",
          "text": [
            "Original data shape: (20228, 3)\n",
            "CPU times: user 39.4 ms, sys: 13.1 ms, total: 52.5 ms\n",
            "Wall time: 56.3 ms\n"
          ],
          "name": "stdout"
        }
      ]
    },
    {
      "cell_type": "markdown",
      "metadata": {
        "id": "EIhs3UkY7Hcw",
        "colab_type": "text"
      },
      "source": [
        "I can see right away the dataset is not the shape I expected. The data description has two columns, but we seem to be picking up an extra column from the CSV."
      ]
    },
    {
      "cell_type": "code",
      "metadata": {
        "id": "MlcrfdKA530Y",
        "colab_type": "code",
        "outputId": "6970c7f9-757d-4e49-a6d5-12c34533ade7",
        "colab": {
          "base_uri": "https://localhost:8080/",
          "height": 204
        }
      },
      "source": [
        "df.head()"
      ],
      "execution_count": 3,
      "outputs": [
        {
          "output_type": "execute_result",
          "data": {
            "text/html": [
              "<div>\n",
              "<style scoped>\n",
              "    .dataframe tbody tr th:only-of-type {\n",
              "        vertical-align: middle;\n",
              "    }\n",
              "\n",
              "    .dataframe tbody tr th {\n",
              "        vertical-align: top;\n",
              "    }\n",
              "\n",
              "    .dataframe thead th {\n",
              "        text-align: right;\n",
              "    }\n",
              "</style>\n",
              "<table border=\"1\" class=\"dataframe\">\n",
              "  <thead>\n",
              "    <tr style=\"text-align: right;\">\n",
              "      <th></th>\n",
              "      <th>Sai kha ya her kisi kay bus ki bat nhi hai lakin main ki hal kal bi Aj aur aj bi sirf Aus say bus</th>\n",
              "      <th>Positive</th>\n",
              "      <th>Unnamed: 2</th>\n",
              "    </tr>\n",
              "  </thead>\n",
              "  <tbody>\n",
              "    <tr>\n",
              "      <th>0</th>\n",
              "      <td>sahi bt h</td>\n",
              "      <td>Positive</td>\n",
              "      <td>NaN</td>\n",
              "    </tr>\n",
              "    <tr>\n",
              "      <th>1</th>\n",
              "      <td>Kya bt hai,</td>\n",
              "      <td>Positive</td>\n",
              "      <td>NaN</td>\n",
              "    </tr>\n",
              "    <tr>\n",
              "      <th>2</th>\n",
              "      <td>Wah je wah</td>\n",
              "      <td>Positive</td>\n",
              "      <td>NaN</td>\n",
              "    </tr>\n",
              "    <tr>\n",
              "      <th>3</th>\n",
              "      <td>Are wha kaya bat hai</td>\n",
              "      <td>Positive</td>\n",
              "      <td>NaN</td>\n",
              "    </tr>\n",
              "    <tr>\n",
              "      <th>4</th>\n",
              "      <td>Wah kya baat likhi</td>\n",
              "      <td>Positive</td>\n",
              "      <td>NaN</td>\n",
              "    </tr>\n",
              "  </tbody>\n",
              "</table>\n",
              "</div>"
            ],
            "text/plain": [
              "  Sai kha ya her kisi kay bus ki bat nhi hai lakin main ki hal kal bi Aj aur aj bi sirf Aus say bus  ... Unnamed: 2\n",
              "0                                          sahi bt h                                                 ...        NaN\n",
              "1                                        Kya bt hai,                                                 ...        NaN\n",
              "2                                         Wah je wah                                                 ...        NaN\n",
              "3                               Are wha kaya bat hai                                                 ...        NaN\n",
              "4                                 Wah kya baat likhi                                                 ...        NaN\n",
              "\n",
              "[5 rows x 3 columns]"
            ]
          },
          "metadata": {
            "tags": []
          },
          "execution_count": 3
        }
      ]
    },
    {
      "cell_type": "markdown",
      "metadata": {
        "id": "gesF1OKB7csf",
        "colab_type": "text"
      },
      "source": [
        "It looks like an extra column I wasn`t expecting. I´m also going to rename the first columns. I will set up a data pipeline later to automate all of the changes.  I´ll start by renaming the columns for convenience."
      ]
    },
    {
      "cell_type": "markdown",
      "metadata": {
        "id": "ixSd6EWwEXod",
        "colab_type": "text"
      },
      "source": [
        "### Initial Cleaning"
      ]
    },
    {
      "cell_type": "code",
      "metadata": {
        "id": "WO85PB2q9g0w",
        "colab_type": "code",
        "colab": {}
      },
      "source": [
        "colunm_names = ['phrase','target','unexpected']\n",
        "df.columns = colunm_names"
      ],
      "execution_count": 0,
      "outputs": []
    },
    {
      "cell_type": "code",
      "metadata": {
        "id": "1Z9R4TW57iaO",
        "colab_type": "code",
        "outputId": "91a8a5e5-b538-4df5-accf-9893532a2559",
        "colab": {
          "base_uri": "https://localhost:8080/",
          "height": 204
        }
      },
      "source": [
        "df.head()"
      ],
      "execution_count": 5,
      "outputs": [
        {
          "output_type": "execute_result",
          "data": {
            "text/html": [
              "<div>\n",
              "<style scoped>\n",
              "    .dataframe tbody tr th:only-of-type {\n",
              "        vertical-align: middle;\n",
              "    }\n",
              "\n",
              "    .dataframe tbody tr th {\n",
              "        vertical-align: top;\n",
              "    }\n",
              "\n",
              "    .dataframe thead th {\n",
              "        text-align: right;\n",
              "    }\n",
              "</style>\n",
              "<table border=\"1\" class=\"dataframe\">\n",
              "  <thead>\n",
              "    <tr style=\"text-align: right;\">\n",
              "      <th></th>\n",
              "      <th>phrase</th>\n",
              "      <th>target</th>\n",
              "      <th>unexpected</th>\n",
              "    </tr>\n",
              "  </thead>\n",
              "  <tbody>\n",
              "    <tr>\n",
              "      <th>0</th>\n",
              "      <td>sahi bt h</td>\n",
              "      <td>Positive</td>\n",
              "      <td>NaN</td>\n",
              "    </tr>\n",
              "    <tr>\n",
              "      <th>1</th>\n",
              "      <td>Kya bt hai,</td>\n",
              "      <td>Positive</td>\n",
              "      <td>NaN</td>\n",
              "    </tr>\n",
              "    <tr>\n",
              "      <th>2</th>\n",
              "      <td>Wah je wah</td>\n",
              "      <td>Positive</td>\n",
              "      <td>NaN</td>\n",
              "    </tr>\n",
              "    <tr>\n",
              "      <th>3</th>\n",
              "      <td>Are wha kaya bat hai</td>\n",
              "      <td>Positive</td>\n",
              "      <td>NaN</td>\n",
              "    </tr>\n",
              "    <tr>\n",
              "      <th>4</th>\n",
              "      <td>Wah kya baat likhi</td>\n",
              "      <td>Positive</td>\n",
              "      <td>NaN</td>\n",
              "    </tr>\n",
              "  </tbody>\n",
              "</table>\n",
              "</div>"
            ],
            "text/plain": [
              "                 phrase    target unexpected\n",
              "0             sahi bt h  Positive        NaN\n",
              "1           Kya bt hai,  Positive        NaN\n",
              "2            Wah je wah  Positive        NaN\n",
              "3  Are wha kaya bat hai  Positive        NaN\n",
              "4    Wah kya baat likhi  Positive        NaN"
            ]
          },
          "metadata": {
            "tags": []
          },
          "execution_count": 5
        }
      ]
    },
    {
      "cell_type": "code",
      "metadata": {
        "id": "TGhGQeE79Iro",
        "colab_type": "code",
        "outputId": "6ba99960-fcba-4a28-b3ea-fe0a650c206f",
        "colab": {
          "base_uri": "https://localhost:8080/",
          "height": 136
        }
      },
      "source": [
        "df['unexpected'].value_counts()"
      ],
      "execution_count": 6,
      "outputs": [
        {
          "output_type": "execute_result",
          "data": {
            "text/plain": [
              "till here           2\n",
              "----------          1\n",
              "9090                1\n",
              "-------             1\n",
              "------              1\n",
              "----------------    1\n",
              "Name: unexpected, dtype: int64"
            ]
          },
          "metadata": {
            "tags": []
          },
          "execution_count": 6
        }
      ]
    },
    {
      "cell_type": "markdown",
      "metadata": {
        "id": "ReOgJzTNAZTg",
        "colab_type": "text"
      },
      "source": [
        "I´m going to go ahead and drop the extra column."
      ]
    },
    {
      "cell_type": "code",
      "metadata": {
        "id": "aNE-VsibAhRO",
        "colab_type": "code",
        "colab": {}
      },
      "source": [
        "df.drop('unexpected', axis=1, inplace=True)"
      ],
      "execution_count": 0,
      "outputs": []
    },
    {
      "cell_type": "markdown",
      "metadata": {
        "id": "k9vUZ87DYtbZ",
        "colab_type": "text"
      },
      "source": [
        "## Data Exploration\n",
        "\n",
        "Let´s take a look at the details of the dataset."
      ]
    },
    {
      "cell_type": "markdown",
      "metadata": {
        "id": "byFSFMBAbUCR",
        "colab_type": "text"
      },
      "source": [
        "### View Distribution of Targets"
      ]
    },
    {
      "cell_type": "code",
      "metadata": {
        "id": "DtDvYoCDA9yP",
        "colab_type": "code",
        "outputId": "8069b17c-28a6-4a88-eb41-6d1e5171d22a",
        "colab": {
          "base_uri": "https://localhost:8080/",
          "height": 102
        }
      },
      "source": [
        "phrase_col = 'phrase'\n",
        "target_col = 'target'\n",
        "df[target_col].value_counts()"
      ],
      "execution_count": 8,
      "outputs": [
        {
          "output_type": "execute_result",
          "data": {
            "text/plain": [
              "Neutral     8929\n",
              "Positive    6012\n",
              "Negative    5286\n",
              "Neative        1\n",
              "Name: target, dtype: int64"
            ]
          },
          "metadata": {
            "tags": []
          },
          "execution_count": 8
        }
      ]
    },
    {
      "cell_type": "markdown",
      "metadata": {
        "id": "qSEInIfqB-SS",
        "colab_type": "text"
      },
      "source": [
        "We have an unexpected value in our labels. We will have to account for that in the pipeline. I´m going to drop it, because I can´t automate for every spelling error in the labels."
      ]
    },
    {
      "cell_type": "code",
      "metadata": {
        "id": "34gKxbopCeYj",
        "colab_type": "code",
        "outputId": "6f7b7d6e-4c3b-42b5-9379-84b506299d2c",
        "colab": {
          "base_uri": "https://localhost:8080/",
          "height": 85
        }
      },
      "source": [
        "correct_labels = ['Positive', 'Negative', 'Neutral']\n",
        "df = df[df.target.isin(correct_labels)]\n",
        "df[target_col].value_counts()"
      ],
      "execution_count": 9,
      "outputs": [
        {
          "output_type": "execute_result",
          "data": {
            "text/plain": [
              "Neutral     8929\n",
              "Positive    6012\n",
              "Negative    5286\n",
              "Name: target, dtype: int64"
            ]
          },
          "metadata": {
            "tags": []
          },
          "execution_count": 9
        }
      ]
    },
    {
      "cell_type": "code",
      "metadata": {
        "id": "Ri1RqxKQYzze",
        "colab_type": "code",
        "outputId": "07328d86-fb74-40c1-cd96-2a36f2e77a39",
        "colab": {
          "base_uri": "https://localhost:8080/",
          "height": 553
        }
      },
      "source": [
        "plt.figure(figsize=(12,8))\n",
        "sns.countplot(x=target_col, data=df)\n",
        "plt.ylabel('Frequency', fontsize=12)\n",
        "plt.xlabel('Class Count', fontsize=12)\n",
        "plt.xticks(rotation='vertical')\n",
        "plt.title(\"Frequency of Classes\", fontsize=15)\n",
        "plt.show()"
      ],
      "execution_count": 10,
      "outputs": [
        {
          "output_type": "display_data",
          "data": {
            "image/png": "[encoded data removed]",
            "text/plain": [
              "<Figure size 864x576 with 1 Axes>"
            ]
          },
          "metadata": {
            "tags": [],
            "needs_background": "light"
          }
        }
      ]
    },
    {
      "cell_type": "markdown",
      "metadata": {
        "id": "ExBMB7osbHDf",
        "colab_type": "text"
      },
      "source": [
        "We have quite a few more neutral reviews than positive and negative. The positive and negative counts are close enough.\n",
        "\n",
        "**`Requirement:`** One of the requirements of the work sample is to document how data limitations impact the result, and what I might do on a larger project.\n",
        "\n",
        "When the class distribution is unbalanced, the model favors predicting the most frequent class. Accuracy can be a poor choice of evaluation metric for a classifier if the data is unbalanced as well.\n",
        "\n",
        "On a larger project, I might consider a technique such as GAN minority oversampling to balance out the dataset.\n",
        "\n",
        "The simplest way to fix imbalanced dataset is simply balancing them by oversampling instances of the minority class or undersampling instances of the majority class. That is what I will choose to do in this case.\n",
        "\n"
      ]
    },
    {
      "cell_type": "code",
      "metadata": {
        "id": "6orv8-zOdi78",
        "colab_type": "code",
        "outputId": "bf928dfb-b92b-409d-aed5-de53e9a06d89",
        "colab": {
          "base_uri": "https://localhost:8080/",
          "height": 173
        }
      },
      "source": [
        "df.describe()"
      ],
      "execution_count": 11,
      "outputs": [
        {
          "output_type": "execute_result",
          "data": {
            "text/html": [
              "<div>\n",
              "<style scoped>\n",
              "    .dataframe tbody tr th:only-of-type {\n",
              "        vertical-align: middle;\n",
              "    }\n",
              "\n",
              "    .dataframe tbody tr th {\n",
              "        vertical-align: top;\n",
              "    }\n",
              "\n",
              "    .dataframe thead th {\n",
              "        text-align: right;\n",
              "    }\n",
              "</style>\n",
              "<table border=\"1\" class=\"dataframe\">\n",
              "  <thead>\n",
              "    <tr style=\"text-align: right;\">\n",
              "      <th></th>\n",
              "      <th>phrase</th>\n",
              "      <th>target</th>\n",
              "    </tr>\n",
              "  </thead>\n",
              "  <tbody>\n",
              "    <tr>\n",
              "      <th>count</th>\n",
              "      <td>20226</td>\n",
              "      <td>20227</td>\n",
              "    </tr>\n",
              "    <tr>\n",
              "      <th>unique</th>\n",
              "      <td>19662</td>\n",
              "      <td>3</td>\n",
              "    </tr>\n",
              "    <tr>\n",
              "      <th>top</th>\n",
              "      <td>Good</td>\n",
              "      <td>Neutral</td>\n",
              "    </tr>\n",
              "    <tr>\n",
              "      <th>freq</th>\n",
              "      <td>23</td>\n",
              "      <td>8929</td>\n",
              "    </tr>\n",
              "  </tbody>\n",
              "</table>\n",
              "</div>"
            ],
            "text/plain": [
              "       phrase   target\n",
              "count   20226    20227\n",
              "unique  19662        3\n",
              "top      Good  Neutral\n",
              "freq       23     8929"
            ]
          },
          "metadata": {
            "tags": []
          },
          "execution_count": 11
        }
      ]
    },
    {
      "cell_type": "markdown",
      "metadata": {
        "id": "1k2pGpUqcPKq",
        "colab_type": "text"
      },
      "source": [
        "### Check for Empty Records"
      ]
    },
    {
      "cell_type": "code",
      "metadata": {
        "id": "a0CRH9djEuX1",
        "colab_type": "code",
        "outputId": "435f3dba-a250-485c-a90f-b27b46470bab",
        "colab": {
          "base_uri": "https://localhost:8080/",
          "height": 68
        }
      },
      "source": [
        "df.isnull().sum()"
      ],
      "execution_count": 12,
      "outputs": [
        {
          "output_type": "execute_result",
          "data": {
            "text/plain": [
              "phrase    1\n",
              "target    0\n",
              "dtype: int64"
            ]
          },
          "metadata": {
            "tags": []
          },
          "execution_count": 12
        }
      ]
    },
    {
      "cell_type": "markdown",
      "metadata": {
        "id": "u0N8H9HSElHv",
        "colab_type": "text"
      },
      "source": [
        "There is one null review. I will deal with that in a bit.\n",
        "\n"
      ]
    },
    {
      "cell_type": "markdown",
      "metadata": {
        "id": "4c3R4fvhG4Mq",
        "colab_type": "text"
      },
      "source": [
        "### Duplicate Rows Check"
      ]
    },
    {
      "cell_type": "code",
      "metadata": {
        "id": "J1sj7uQJG_0_",
        "colab_type": "code",
        "outputId": "18cd1d33-dc81-4ee7-c080-71f304524429",
        "colab": {
          "base_uri": "https://localhost:8080/",
          "height": 255
        }
      },
      "source": [
        "print(df[df.duplicated(keep='first')])"
      ],
      "execution_count": 13,
      "outputs": [
        {
          "output_type": "stream",
          "text": [
            "                                                  phrase    target\n",
            "19                                          jee ye to he  Positive\n",
            "411                                             Hahahaha  Positive\n",
            "585      Kabhi aap dusro k lye Dil se dua mang kr dekho   Positive\n",
            "596    Karachi K Badalte Hue Halaat Or Nit Nayi Faida...  Positive\n",
            "602    Aaj Bhi Shehar Me Target Killing Ka Koi Waqia ...  Positive\n",
            "...                                                  ...       ...\n",
            "17581  Or agr ye jhota wada howa to pti waly khud is ...  Negative\n",
            "18207                              Conse colr may chaiye   Neutral\n",
            "18354  Dhoka ha ye site plx mat Len ink products frau...  Negative\n",
            "18363  Dhoka ha ye site plx mat Len ink products frau...  Negative\n",
            "19543                                           Kia huwa   Neutral\n",
            "\n",
            "[543 rows x 2 columns]\n"
          ],
          "name": "stdout"
        }
      ]
    },
    {
      "cell_type": "markdown",
      "metadata": {
        "id": "YBKySxG0J3Fg",
        "colab_type": "text"
      },
      "source": [
        "I'm going to drop those duplicates later."
      ]
    },
    {
      "cell_type": "markdown",
      "metadata": {
        "id": "DoQSlwgrXK5G",
        "colab_type": "text"
      },
      "source": [
        "## Feature Engineering\n",
        "\n",
        "Now that we have discovered the basic cleanup procedures required, I am going to some basic text feature engineering.\n",
        "\n",
        "**`Requirement:`**  The requirements from the customer specify evolving this solution into a multilingual sentiment application. \n",
        "\n",
        "For a production system, if the client requirements did not involve unsupported languages, I would put all of the data preperation and feature engineering steps into an SKLearn pipeline. I this would produce more repeatable and reliable model training process.\n",
        "\n",
        "An academic paper on multilingual pipelines can be found [here](https://www.frederikhogenboom.nl/work/papers/wise11-slang.pdf).\n",
        "\n",
        "I will implement a flexible pipeline, to the extent possible, in this work sample."
      ]
    },
    {
      "cell_type": "markdown",
      "metadata": {
        "id": "0VBEGPrNz4hH",
        "colab_type": "text"
      },
      "source": [
        "### Preprocessing the Data"
      ]
    },
    {
      "cell_type": "code",
      "metadata": {
        "id": "OGXudVhmzeqC",
        "colab_type": "code",
        "colab": {}
      },
      "source": [
        "# Preprocessing function to encapsulate steps \n",
        "# We want to support other column names, stopwords,\n",
        "# and target values in the future\n",
        "def processing(data, stopwords, col_names, target_vals):\n",
        "    # Name the columns\n",
        "    data.columns = col_names\n",
        "    # Drop extra column\n",
        "    data.drop('unexpected', axis=1, inplace=True)\n",
        "    # Remove bad labels\n",
        "    data = data[data.target.isin(target_vals)]\n",
        "    # Lowercase phrases and remove punctuation\n",
        "    data['processed'] = data['phrase'].apply(lambda x: re.sub(r'[^\\w\\s]','', str(x).lower()))\n",
        "    # Total length of phrase\n",
        "    data['length'] = data['processed'].apply(lambda x: len(x))\n",
        "    # Number of words\n",
        "    data['num_words'] = data['processed'].apply(lambda x: len(x.split(' ')))\n",
        "    # Subtract the stopwords\n",
        "    data['words_not_stopwords'] = data['processed'].apply(lambda x: len([t for t in x.split(' ') if t not in stopwords]))\n",
        "    #get the average word length\n",
        "    data['avg_word_length'] = data['processed'].apply(lambda x: np.mean(\n",
        "        [len(t) for t in x.split(' ') if t not in stopwords]) if len(\n",
        "            [len(t) for t in x.split(' ') if t not in stopwords]) > 0 else 0)\n",
        "    return data"
      ],
      "execution_count": 0,
      "outputs": []
    },
    {
      "cell_type": "markdown",
      "metadata": {
        "id": "Hdfb9VQIcJ8f",
        "colab_type": "text"
      },
      "source": [
        "Roman Urdu stopwords list from [GitHub](https://github.com/mirfan899/roman-urdu-stopwords/blob/master/stopwords.txt)."
      ]
    },
    {
      "cell_type": "code",
      "metadata": {
        "id": "QoI27A6Xyum-",
        "colab_type": "code",
        "colab": {}
      },
      "source": [
        "stopwords_list = ['ai', 'ayi', 'hy', 'hai', 'main', 'ki', 'tha', 'koi', 'ko', \n",
        "                  'sy', 'woh', 'bhi', 'aur', 'wo', 'yeh', 'rha', 'hota', 'ho', \n",
        "                  'ga', 'ka', 'le', 'lye', 'kr', 'kar', 'lye', 'liye', \n",
        "                  'hotay', 'waisay', 'gya', 'gaya', 'kch', 'ab', 'thy', 'thay', \n",
        "                  'houn', 'hain', 'han', 'to', 'is', 'hi', 'jo', 'kya', 'thi', \n",
        "                  'se', 'pe', 'phr', 'wala', 'waisay', 'us', 'na', 'ny', 'hun', \n",
        "                  'rha', 'raha', 'ja', 'rahay', 'abi', 'uski', 'ne', 'haan', \n",
        "                  'acha', 'nai', 'sent', 'photo', 'you', 'kafi', 'gai', 'rhy', \n",
        "                  'kuch', 'jata', 'aye', 'ya', 'dono', 'hoa', 'aese', 'de', \n",
        "                  'wohi', 'jati', 'jb', 'krta', 'lg', 'rahi', 'hui', 'karna', \n",
        "                  'krna', 'gi', 'hova', 'yehi', 'jana', 'jye', 'chal', 'mil', \n",
        "                  'tu', 'hum', 'par', 'hay', 'kis', 'sb', 'gy', 'dain', 'krny', \n",
        "                  'tou']\n",
        "\n",
        "stopwords = set(stopwords_list)\n",
        "col_names = ['phrase', 'target', 'unexpected']\n",
        "target_values = ['Positive', 'Negative', 'Neutral']"
      ],
      "execution_count": 0,
      "outputs": []
    },
    {
      "cell_type": "code",
      "metadata": {
        "id": "68vtEA-N-Ptr",
        "colab_type": "code",
        "colab": {
          "base_uri": "https://localhost:8080/",
          "height": 204
        },
        "outputId": "88897dd3-08da-4751-d247-0d21eaaaac38"
      },
      "source": [
        "# Revert to a clean copy\n",
        "df = clean_copy.copy()\n",
        "df_processed = processing(df, stopwords, col_names, target_values)\n",
        "df_processed.head()"
      ],
      "execution_count": 16,
      "outputs": [
        {
          "output_type": "execute_result",
          "data": {
            "text/html": [
              "<div>\n",
              "<style scoped>\n",
              "    .dataframe tbody tr th:only-of-type {\n",
              "        vertical-align: middle;\n",
              "    }\n",
              "\n",
              "    .dataframe tbody tr th {\n",
              "        vertical-align: top;\n",
              "    }\n",
              "\n",
              "    .dataframe thead th {\n",
              "        text-align: right;\n",
              "    }\n",
              "</style>\n",
              "<table border=\"1\" class=\"dataframe\">\n",
              "  <thead>\n",
              "    <tr style=\"text-align: right;\">\n",
              "      <th></th>\n",
              "      <th>phrase</th>\n",
              "      <th>target</th>\n",
              "      <th>processed</th>\n",
              "      <th>length</th>\n",
              "      <th>num_words</th>\n",
              "      <th>words_not_stopwords</th>\n",
              "      <th>avg_word_length</th>\n",
              "    </tr>\n",
              "  </thead>\n",
              "  <tbody>\n",
              "    <tr>\n",
              "      <th>0</th>\n",
              "      <td>sahi bt h</td>\n",
              "      <td>Positive</td>\n",
              "      <td>sahi bt h</td>\n",
              "      <td>9</td>\n",
              "      <td>3</td>\n",
              "      <td>3</td>\n",
              "      <td>2.333333</td>\n",
              "    </tr>\n",
              "    <tr>\n",
              "      <th>1</th>\n",
              "      <td>Kya bt hai,</td>\n",
              "      <td>Positive</td>\n",
              "      <td>kya bt hai</td>\n",
              "      <td>10</td>\n",
              "      <td>3</td>\n",
              "      <td>1</td>\n",
              "      <td>2.000000</td>\n",
              "    </tr>\n",
              "    <tr>\n",
              "      <th>2</th>\n",
              "      <td>Wah je wah</td>\n",
              "      <td>Positive</td>\n",
              "      <td>wah je wah</td>\n",
              "      <td>10</td>\n",
              "      <td>3</td>\n",
              "      <td>3</td>\n",
              "      <td>2.666667</td>\n",
              "    </tr>\n",
              "    <tr>\n",
              "      <th>3</th>\n",
              "      <td>Are wha kaya bat hai</td>\n",
              "      <td>Positive</td>\n",
              "      <td>are wha kaya bat hai</td>\n",
              "      <td>20</td>\n",
              "      <td>5</td>\n",
              "      <td>4</td>\n",
              "      <td>3.250000</td>\n",
              "    </tr>\n",
              "    <tr>\n",
              "      <th>4</th>\n",
              "      <td>Wah kya baat likhi</td>\n",
              "      <td>Positive</td>\n",
              "      <td>wah kya baat likhi</td>\n",
              "      <td>18</td>\n",
              "      <td>4</td>\n",
              "      <td>3</td>\n",
              "      <td>4.000000</td>\n",
              "    </tr>\n",
              "  </tbody>\n",
              "</table>\n",
              "</div>"
            ],
            "text/plain": [
              "                 phrase    target  ... words_not_stopwords  avg_word_length\n",
              "0             sahi bt h  Positive  ...                   3         2.333333\n",
              "1           Kya bt hai,  Positive  ...                   1         2.000000\n",
              "2            Wah je wah  Positive  ...                   3         2.666667\n",
              "3  Are wha kaya bat hai  Positive  ...                   4         3.250000\n",
              "4    Wah kya baat likhi  Positive  ...                   3         4.000000\n",
              "\n",
              "[5 rows x 7 columns]"
            ]
          },
          "metadata": {
            "tags": []
          },
          "execution_count": 16
        }
      ]
    },
    {
      "cell_type": "markdown",
      "metadata": {
        "id": "6AuShEVwBX5A",
        "colab_type": "text"
      },
      "source": [
        "### Build the Pipeline"
      ]
    },
    {
      "cell_type": "code",
      "metadata": {
        "id": "vU-LU_b-BeJu",
        "colab_type": "code",
        "colab": {}
      },
      "source": [
        "# Set feature columns\n",
        "SEED = 37\n",
        "features = [col for col in df_processed.columns.values \n",
        "            if col  not in ['phrase', 'target']]\n",
        "num_features = [col for col in df_processed.columns.values \n",
        "                if col  not in ['phrase','target','processed']]\n",
        "target = 'target'"
      ],
      "execution_count": 0,
      "outputs": []
    },
    {
      "cell_type": "code",
      "metadata": {
        "id": "Mf618aj9l2xZ",
        "colab_type": "code",
        "colab": {
          "base_uri": "https://localhost:8080/",
          "height": 204
        },
        "outputId": "2185f406-f260-40cb-f11e-17881d5d3b48"
      },
      "source": [
        "# Random under-sampling to help balance the data\n",
        "rus = RandomUnderSampler(random_state=SEED)\n",
        "X_resampled, y_resampled = rus.fit_resample(df_processed[features], \n",
        "                                            df_processed[target])\n",
        "X_resampled = pd.DataFrame(X_resampled)\n",
        "X_resampled.columns = features\n",
        "y_resampled = pd.DataFrame(y_resampled)\n",
        "y_resampled.columns = ['target']\n",
        "X_resampled.head()"
      ],
      "execution_count": 18,
      "outputs": [
        {
          "output_type": "execute_result",
          "data": {
            "text/html": [
              "<div>\n",
              "<style scoped>\n",
              "    .dataframe tbody tr th:only-of-type {\n",
              "        vertical-align: middle;\n",
              "    }\n",
              "\n",
              "    .dataframe tbody tr th {\n",
              "        vertical-align: top;\n",
              "    }\n",
              "\n",
              "    .dataframe thead th {\n",
              "        text-align: right;\n",
              "    }\n",
              "</style>\n",
              "<table border=\"1\" class=\"dataframe\">\n",
              "  <thead>\n",
              "    <tr style=\"text-align: right;\">\n",
              "      <th></th>\n",
              "      <th>processed</th>\n",
              "      <th>length</th>\n",
              "      <th>num_words</th>\n",
              "      <th>words_not_stopwords</th>\n",
              "      <th>avg_word_length</th>\n",
              "    </tr>\n",
              "  </thead>\n",
              "  <tbody>\n",
              "    <tr>\n",
              "      <th>0</th>\n",
              "      <td>asif momin hakir nahi fakir hai mera sabr us n...</td>\n",
              "      <td>58</td>\n",
              "      <td>12</td>\n",
              "      <td>8</td>\n",
              "      <td>4.625</td>\n",
              "    </tr>\n",
              "    <tr>\n",
              "      <th>1</th>\n",
              "      <td>phely jaa kr naha ky ao phr mazi ko khechna</td>\n",
              "      <td>43</td>\n",
              "      <td>10</td>\n",
              "      <td>7</td>\n",
              "      <td>3.85714</td>\n",
              "    </tr>\n",
              "    <tr>\n",
              "      <th>2</th>\n",
              "      <td>ye to bilkul thk kaha aur hamra km hi dushmano...</td>\n",
              "      <td>58</td>\n",
              "      <td>13</td>\n",
              "      <td>9</td>\n",
              "      <td>4.11111</td>\n",
              "    </tr>\n",
              "    <tr>\n",
              "      <th>3</th>\n",
              "      <td>dukh hi dukh zindhge mein</td>\n",
              "      <td>25</td>\n",
              "      <td>5</td>\n",
              "      <td>4</td>\n",
              "      <td>4.75</td>\n",
              "    </tr>\n",
              "    <tr>\n",
              "      <th>4</th>\n",
              "      <td>or ya assa he hotta hajassya khamosh samander ...</td>\n",
              "      <td>131</td>\n",
              "      <td>25</td>\n",
              "      <td>19</td>\n",
              "      <td>4.78947</td>\n",
              "    </tr>\n",
              "  </tbody>\n",
              "</table>\n",
              "</div>"
            ],
            "text/plain": [
              "                                           processed  ... avg_word_length\n",
              "0  asif momin hakir nahi fakir hai mera sabr us n...  ...           4.625\n",
              "1        phely jaa kr naha ky ao phr mazi ko khechna  ...         3.85714\n",
              "2  ye to bilkul thk kaha aur hamra km hi dushmano...  ...         4.11111\n",
              "3                          dukh hi dukh zindhge mein  ...            4.75\n",
              "4  or ya assa he hotta hajassya khamosh samander ...  ...         4.78947\n",
              "\n",
              "[5 rows x 5 columns]"
            ]
          },
          "metadata": {
            "tags": []
          },
          "execution_count": 18
        }
      ]
    },
    {
      "cell_type": "code",
      "metadata": {
        "id": "OvvKtV671bZf",
        "colab_type": "code",
        "colab": {
          "base_uri": "https://localhost:8080/",
          "height": 34
        },
        "outputId": "7270edf9-dc81-4f03-c918-73ac43f5e9ac"
      },
      "source": [
        "# Split the data\n",
        "TRAIN_SPLIT = .8\n",
        "\n",
        "X_train, X_test, y_train, y_test = train_test_split(X_resampled, y_resampled,\n",
        "                                                    train_size=TRAIN_SPLIT,\n",
        "                                                    shuffle=True,\n",
        "                                                    random_state=SEED)\n",
        "print('{} training records'.format(len(X_train)))"
      ],
      "execution_count": 19,
      "outputs": [
        {
          "output_type": "stream",
          "text": [
            "12686 training records\n"
          ],
          "name": "stdout"
        }
      ]
    },
    {
      "cell_type": "code",
      "metadata": {
        "id": "FKMRgf_RIjB5",
        "colab_type": "code",
        "colab": {}
      },
      "source": [
        "# Text feature selector\n",
        "class TextSelector(BaseEstimator, TransformerMixin):\n",
        "    def __init__(self, key):\n",
        "        self.key = key\n",
        "\n",
        "    def fit(self, X, y=None):\n",
        "        return self\n",
        "\n",
        "    def transform(self, X):\n",
        "        return X[self.key]\n",
        "\n",
        "# Numeric feature selector    \n",
        "class NumericSelector(BaseEstimator, TransformerMixin):\n",
        "    def __init__(self, key):\n",
        "        self.key = key\n",
        "\n",
        "    def fit(self, X, y=None):\n",
        "        return self\n",
        "\n",
        "    def transform(self, X):\n",
        "        return X[[self.key]]"
      ],
      "execution_count": 0,
      "outputs": []
    },
    {
      "cell_type": "code",
      "metadata": {
        "id": "g13hMGwRSQf1",
        "colab_type": "code",
        "outputId": "dc3d958f-0614-474a-b29b-c44bdc510893",
        "colab": {
          "base_uri": "https://localhost:8080/",
          "height": 51
        }
      },
      "source": [
        "union_stop_words = text.ENGLISH_STOP_WORDS.union(stopwords_list)\n",
        "\n",
        "tfidf_pipeline = Pipeline([\n",
        "                ('selector', TextSelector(key='processed')),\n",
        "                ('tfidf', TfidfVectorizer(stop_words=union_stop_words))\n",
        "            ])\n",
        "\n",
        "length_pipeline =  Pipeline([\n",
        "                ('selector', NumericSelector(key='length')),\n",
        "                ('standard', StandardScaler())\n",
        "            ])\n",
        "\n",
        "words_pipeline =  Pipeline([\n",
        "                ('selector', NumericSelector(key='num_words')),\n",
        "                ('standard', StandardScaler())\n",
        "            ])\n",
        "\n",
        "words_not_stopword_pipeline =  Pipeline([\n",
        "                ('selector', NumericSelector(key='words_not_stopwords')),\n",
        "                ('standard', StandardScaler())\n",
        "            ])\n",
        "\n",
        "avg_word_length_pipeline =  Pipeline([\n",
        "                ('selector', NumericSelector(key='avg_word_length')),\n",
        "                ('standard', StandardScaler())\n",
        "            ])\n",
        "\n",
        "feature_pipeline = FeatureUnion([('tfidf', tfidf_pipeline), \n",
        "                                 ('length', length_pipeline),\n",
        "                                 ('words', words_pipeline),\n",
        "                                 ('words_not_stopword', words_not_stopword_pipeline),\n",
        "                                 ('avg_word_length', avg_word_length_pipeline)])\n",
        "\n",
        "feature_processing = Pipeline([('features', feature_pipeline)])\n",
        "feature_processing.fit_transform(X_train)"
      ],
      "execution_count": 21,
      "outputs": [
        {
          "output_type": "execute_result",
          "data": {
            "text/plain": [
              "<12686x25603 sparse matrix of type '<class 'numpy.float64'>'\n",
              "\twith 165566 stored elements in Compressed Sparse Row format>"
            ]
          },
          "metadata": {
            "tags": []
          },
          "execution_count": 21
        }
      ]
    },
    {
      "cell_type": "code",
      "metadata": {
        "id": "KWnBfJKmjHlo",
        "colab_type": "code",
        "colab": {
          "base_uri": "https://localhost:8080/",
          "height": 34
        },
        "outputId": "ee6c1969-7f51-46b5-979a-c60fec54436b"
      },
      "source": [
        "# Encode the labels\n",
        "encoder = LabelEncoder()\n",
        "encoder.fit(y_train)\n",
        "encoder.classes_"
      ],
      "execution_count": 22,
      "outputs": [
        {
          "output_type": "execute_result",
          "data": {
            "text/plain": [
              "array(['Negative', 'Neutral', 'Positive'], dtype=object)"
            ]
          },
          "metadata": {
            "tags": []
          },
          "execution_count": 22
        }
      ]
    },
    {
      "cell_type": "code",
      "metadata": {
        "id": "Fbi2_dIujfKN",
        "colab_type": "code",
        "colab": {}
      },
      "source": [
        "y_train_enc = encoder.transform(y_train)\n",
        "y_test_enc = encoder.transform(y_test)"
      ],
      "execution_count": 0,
      "outputs": []
    },
    {
      "cell_type": "markdown",
      "metadata": {
        "id": "JjKssYfjZG79",
        "colab_type": "text"
      },
      "source": [
        "Lookin' good. I'm going to start building and evaluating some models."
      ]
    },
    {
      "cell_type": "markdown",
      "metadata": {
        "id": "uWKlNkgYZQdr",
        "colab_type": "text"
      },
      "source": [
        "## Build and Evaluate Models"
      ]
    },
    {
      "cell_type": "markdown",
      "metadata": {
        "id": "XPAE4UJRq-K1",
        "colab_type": "text"
      },
      "source": [
        "### Random Forest Classifier"
      ]
    },
    {
      "cell_type": "code",
      "metadata": {
        "id": "F75zRKQHZXB3",
        "colab_type": "code",
        "colab": {}
      },
      "source": [
        "sentiment_pipeline = Pipeline([\n",
        "    ('features',feature_pipeline),\n",
        "    ('classifier', RandomForestClassifier(random_state=SEED)),\n",
        "])\n",
        "\n",
        "y_pred = sentiment_pipeline.fit(X_train, y_train_enc).predict(X_test)\n",
        "cm = confusion_matrix(y_test_enc, y_pred)\n",
        "df_cm = pd.DataFrame(cm, index = [i for i in range(3)],\n",
        "                  columns = [i for i in range(3)])"
      ],
      "execution_count": 0,
      "outputs": []
    },
    {
      "cell_type": "code",
      "metadata": {
        "id": "MC-sQXoWqN3V",
        "colab_type": "code",
        "colab": {
          "base_uri": "https://localhost:8080/",
          "height": 34
        },
        "outputId": "3f5b069f-6646-49b6-c59f-8b56d9c18246"
      },
      "source": [
        "acc = accuracy_score(y_test_enc, y_pred)\n",
        "print('RandomForestClassifier Accuracy: {}'.format(acc))"
      ],
      "execution_count": 25,
      "outputs": [
        {
          "output_type": "stream",
          "text": [
            "RandomForestClassifier Accuracy: 0.5898486759142497\n"
          ],
          "name": "stdout"
        }
      ]
    },
    {
      "cell_type": "code",
      "metadata": {
        "id": "dVthH2SuhdoG",
        "colab_type": "code",
        "colab": {
          "base_uri": "https://localhost:8080/",
          "height": 460
        },
        "outputId": "b42317bd-d4f2-403e-9e35-d98d4eab15d5"
      },
      "source": [
        "fig = plt.figure(figsize = (10,7))\n",
        "plt.title('Confusion matrix of RandomForestClassifier')\n",
        "ax = fig.add_subplot(111)\n",
        "cax = ax.matshow(cm)\n",
        "plt.title('Confusion matrix of the classifier')\n",
        "fig.colorbar(cax)\n",
        "labels = ['Negative', 'Neutral', 'Positive']\n",
        "ax.set_xticklabels([''] + labels)\n",
        "ax.set_yticklabels([''] + labels)\n",
        "plt.xlabel('Predicted')\n",
        "plt.ylabel('True')\n",
        "plt.show()"
      ],
      "execution_count": 26,
      "outputs": [
        {
          "output_type": "display_data",
          "data": {
            "image/png": "[encoded data removed]",
            "text/plain": [
              "<Figure size 720x504 with 2 Axes>"
            ]
          },
          "metadata": {
            "tags": [],
            "needs_background": "light"
          }
        }
      ]
    }
  ]
}