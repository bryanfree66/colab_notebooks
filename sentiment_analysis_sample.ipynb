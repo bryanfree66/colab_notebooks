{
  "nbformat": 4,
  "nbformat_minor": 0,
  "metadata": {
    "colab": {
      "name": "sentiment_analysis_sample.ipynb",
      "provenance": [],
      "collapsed_sections": [],
      "mount_file_id": "1mnBx6vks95yZkOoljuU38EA_XUKhWpML",
      "authorship_tag": "ABX9TyOhc5x3UyDnYvhGBzLUsQE+",
      "include_colab_link": true
    },
    "kernelspec": {
      "name": "python3",
      "display_name": "Python 3"
    }
  },
  "cells": [
    {
      "cell_type": "markdown",
      "metadata": {
        "id": "view-in-github",
        "colab_type": "text"
      },
      "source": [
        "<a href=\"https://colab.research.google.com/github/bryanfree66/colab_notebooks/blob/master/sentiment_analysis_sample.ipynb\" target=\"_parent\"><img src=\"https://colab.research.google.com/assets/colab-badge.svg\" alt=\"Open In Colab\"/></a>"
      ]
    },
    {
      "cell_type": "markdown",
      "metadata": {
        "id": "2km3oZQn3_xL",
        "colab_type": "text"
      },
      "source": [
        "# Sentiment Identification Work Sample\n",
        "## Data Description\n",
        "\n",
        "\n",
        "1.   Number of records: 20000\n",
        "2.   Text data\n",
        "3.   Two string data type values per record\n",
        "4.   Tagged for Sentiment (Positive, Negative, Neutral)\n",
        "5.   The training data includes documents from a wide variety of sources\n",
        "\n",
        "[Dataset link](http://archive.ics.uci.edu/ml/datasets/Roman+Urdu+Data+Set)\n",
        "\n",
        "## Goal\n",
        "* Train a sentiment classifier on the corpus of the dataset \n",
        "* Maximize accuracy of the classifier\n",
        "* I want to be more sensitive to identifying negative\n",
        "\n",
        "## Plan of Work\n",
        "1. Load and clean up the data\n",
        "2. Do some exploratory data analysis\n",
        "3. Filter out Roman Urdu stop words\n",
        "4. Evaluate creating additional features\n",
        "5. Vectorize reviews\n",
        "6. Train and evaluate model(s)\n",
        "7. Select best model based on accuracy"
      ]
    },
    {
      "cell_type": "code",
      "metadata": {
        "id": "QGUWnDVGYkyL",
        "colab_type": "code",
        "colab": {}
      },
      "source": [
        "import pandas as pd\n",
        "import numpy as np\n",
        "import matplotlib.pyplot as plt\n",
        "import seaborn as sns\n",
        "import warnings\n",
        "\n",
        "warnings.filterwarnings(\"ignore\")\n",
        "sns.set(style=\"darkgrid\")"
      ],
      "execution_count": 0,
      "outputs": []
    },
    {
      "cell_type": "markdown",
      "metadata": {
        "id": "yM7kV-HMEOEA",
        "colab_type": "text"
      },
      "source": [
        "### Load the Data"
      ]
    },
    {
      "cell_type": "code",
      "metadata": {
        "id": "V0mMybwQ3WNb",
        "colab_type": "code",
        "colab": {
          "base_uri": "https://localhost:8080/",
          "height": 34
        },
        "outputId": "f8e0cd60-ac59-4e34-8756-5d212f513031"
      },
      "source": [
        "original_data = pd.read_csv('/content/drive/My Drive/working_data/roman_urdu/Roman Urdu DataSet.csv',\n",
        "                            encoding='utf8')\n",
        "clean_copy = original_data.copy()  # Save a clean copy for later\n",
        "print('Original data shape: {}'.format(original_data.shape))"
      ],
      "execution_count": 261,
      "outputs": [
        {
          "output_type": "stream",
          "text": [
            "Original data shape: (20228, 3)\n"
          ],
          "name": "stdout"
        }
      ]
    },
    {
      "cell_type": "markdown",
      "metadata": {
        "id": "EIhs3UkY7Hcw",
        "colab_type": "text"
      },
      "source": [
        "I can see right away the dataset is not the shape I expected. The data description has two columns, but we seem to be picking up an extra column from the CSV."
      ]
    },
    {
      "cell_type": "markdown",
      "metadata": {
        "id": "ixSd6EWwEXod",
        "colab_type": "text"
      },
      "source": [
        "### Initial Cleaning"
      ]
    },
    {
      "cell_type": "code",
      "metadata": {
        "id": "MlcrfdKA530Y",
        "colab_type": "code",
        "colab": {
          "base_uri": "https://localhost:8080/",
          "height": 221
        },
        "outputId": "a36ac9b3-0b89-4238-b2b0-53c3f7c9d10a"
      },
      "source": [
        "original_data.head()"
      ],
      "execution_count": 262,
      "outputs": [
        {
          "output_type": "execute_result",
          "data": {
            "text/html": [
              "<div>\n",
              "<style scoped>\n",
              "    .dataframe tbody tr th:only-of-type {\n",
              "        vertical-align: middle;\n",
              "    }\n",
              "\n",
              "    .dataframe tbody tr th {\n",
              "        vertical-align: top;\n",
              "    }\n",
              "\n",
              "    .dataframe thead th {\n",
              "        text-align: right;\n",
              "    }\n",
              "</style>\n",
              "<table border=\"1\" class=\"dataframe\">\n",
              "  <thead>\n",
              "    <tr style=\"text-align: right;\">\n",
              "      <th></th>\n",
              "      <th>Sai kha ya her kisi kay bus ki bat nhi hai lakin main ki hal kal bi Aj aur aj bi sirf Aus say bus</th>\n",
              "      <th>Positive</th>\n",
              "      <th>Unnamed: 2</th>\n",
              "    </tr>\n",
              "  </thead>\n",
              "  <tbody>\n",
              "    <tr>\n",
              "      <th>0</th>\n",
              "      <td>sahi bt h</td>\n",
              "      <td>Positive</td>\n",
              "      <td>NaN</td>\n",
              "    </tr>\n",
              "    <tr>\n",
              "      <th>1</th>\n",
              "      <td>Kya bt hai,</td>\n",
              "      <td>Positive</td>\n",
              "      <td>NaN</td>\n",
              "    </tr>\n",
              "    <tr>\n",
              "      <th>2</th>\n",
              "      <td>Wah je wah</td>\n",
              "      <td>Positive</td>\n",
              "      <td>NaN</td>\n",
              "    </tr>\n",
              "    <tr>\n",
              "      <th>3</th>\n",
              "      <td>Are wha kaya bat hai</td>\n",
              "      <td>Positive</td>\n",
              "      <td>NaN</td>\n",
              "    </tr>\n",
              "    <tr>\n",
              "      <th>4</th>\n",
              "      <td>Wah kya baat likhi</td>\n",
              "      <td>Positive</td>\n",
              "      <td>NaN</td>\n",
              "    </tr>\n",
              "  </tbody>\n",
              "</table>\n",
              "</div>"
            ],
            "text/plain": [
              "  Sai kha ya her kisi kay bus ki bat nhi hai lakin main ki hal kal bi Aj aur aj bi sirf Aus say bus  ... Unnamed: 2\n",
              "0                                          sahi bt h                                                 ...        NaN\n",
              "1                                        Kya bt hai,                                                 ...        NaN\n",
              "2                                         Wah je wah                                                 ...        NaN\n",
              "3                               Are wha kaya bat hai                                                 ...        NaN\n",
              "4                                 Wah kya baat likhi                                                 ...        NaN\n",
              "\n",
              "[5 rows x 3 columns]"
            ]
          },
          "metadata": {
            "tags": []
          },
          "execution_count": 262
        }
      ]
    },
    {
      "cell_type": "markdown",
      "metadata": {
        "id": "gesF1OKB7csf",
        "colab_type": "text"
      },
      "source": [
        "It looks like an extra I wasn`t expecting. I´m also going to rename the first columns. I will set up a data pipeline later to automate all of the changes. \n",
        "\n",
        "I´ll start by renaming the columns for convenience."
      ]
    },
    {
      "cell_type": "code",
      "metadata": {
        "id": "WO85PB2q9g0w",
        "colab_type": "code",
        "colab": {}
      },
      "source": [
        "original_data.columns = ['review','target','unexpected']"
      ],
      "execution_count": 0,
      "outputs": []
    },
    {
      "cell_type": "code",
      "metadata": {
        "id": "1Z9R4TW57iaO",
        "colab_type": "code",
        "colab": {
          "base_uri": "https://localhost:8080/",
          "height": 204
        },
        "outputId": "1ffa0eba-1eec-4890-8bc2-be28ac12f1f0"
      },
      "source": [
        "original_data.head()"
      ],
      "execution_count": 264,
      "outputs": [
        {
          "output_type": "execute_result",
          "data": {
            "text/html": [
              "<div>\n",
              "<style scoped>\n",
              "    .dataframe tbody tr th:only-of-type {\n",
              "        vertical-align: middle;\n",
              "    }\n",
              "\n",
              "    .dataframe tbody tr th {\n",
              "        vertical-align: top;\n",
              "    }\n",
              "\n",
              "    .dataframe thead th {\n",
              "        text-align: right;\n",
              "    }\n",
              "</style>\n",
              "<table border=\"1\" class=\"dataframe\">\n",
              "  <thead>\n",
              "    <tr style=\"text-align: right;\">\n",
              "      <th></th>\n",
              "      <th>review</th>\n",
              "      <th>target</th>\n",
              "      <th>unexpected</th>\n",
              "    </tr>\n",
              "  </thead>\n",
              "  <tbody>\n",
              "    <tr>\n",
              "      <th>0</th>\n",
              "      <td>sahi bt h</td>\n",
              "      <td>Positive</td>\n",
              "      <td>NaN</td>\n",
              "    </tr>\n",
              "    <tr>\n",
              "      <th>1</th>\n",
              "      <td>Kya bt hai,</td>\n",
              "      <td>Positive</td>\n",
              "      <td>NaN</td>\n",
              "    </tr>\n",
              "    <tr>\n",
              "      <th>2</th>\n",
              "      <td>Wah je wah</td>\n",
              "      <td>Positive</td>\n",
              "      <td>NaN</td>\n",
              "    </tr>\n",
              "    <tr>\n",
              "      <th>3</th>\n",
              "      <td>Are wha kaya bat hai</td>\n",
              "      <td>Positive</td>\n",
              "      <td>NaN</td>\n",
              "    </tr>\n",
              "    <tr>\n",
              "      <th>4</th>\n",
              "      <td>Wah kya baat likhi</td>\n",
              "      <td>Positive</td>\n",
              "      <td>NaN</td>\n",
              "    </tr>\n",
              "  </tbody>\n",
              "</table>\n",
              "</div>"
            ],
            "text/plain": [
              "                 review    target unexpected\n",
              "0             sahi bt h  Positive        NaN\n",
              "1           Kya bt hai,  Positive        NaN\n",
              "2            Wah je wah  Positive        NaN\n",
              "3  Are wha kaya bat hai  Positive        NaN\n",
              "4    Wah kya baat likhi  Positive        NaN"
            ]
          },
          "metadata": {
            "tags": []
          },
          "execution_count": 264
        }
      ]
    },
    {
      "cell_type": "code",
      "metadata": {
        "id": "6orv8-zOdi78",
        "colab_type": "code",
        "colab": {
          "base_uri": "https://localhost:8080/",
          "height": 173
        },
        "outputId": "d22f5522-afc3-4753-ed94-23cbdb552b38"
      },
      "source": [
        "original_data.describe()"
      ],
      "execution_count": 265,
      "outputs": [
        {
          "output_type": "execute_result",
          "data": {
            "text/html": [
              "<div>\n",
              "<style scoped>\n",
              "    .dataframe tbody tr th:only-of-type {\n",
              "        vertical-align: middle;\n",
              "    }\n",
              "\n",
              "    .dataframe tbody tr th {\n",
              "        vertical-align: top;\n",
              "    }\n",
              "\n",
              "    .dataframe thead th {\n",
              "        text-align: right;\n",
              "    }\n",
              "</style>\n",
              "<table border=\"1\" class=\"dataframe\">\n",
              "  <thead>\n",
              "    <tr style=\"text-align: right;\">\n",
              "      <th></th>\n",
              "      <th>review</th>\n",
              "      <th>target</th>\n",
              "      <th>unexpected</th>\n",
              "    </tr>\n",
              "  </thead>\n",
              "  <tbody>\n",
              "    <tr>\n",
              "      <th>count</th>\n",
              "      <td>20227</td>\n",
              "      <td>20228</td>\n",
              "      <td>7</td>\n",
              "    </tr>\n",
              "    <tr>\n",
              "      <th>unique</th>\n",
              "      <td>19663</td>\n",
              "      <td>4</td>\n",
              "      <td>6</td>\n",
              "    </tr>\n",
              "    <tr>\n",
              "      <th>top</th>\n",
              "      <td>Good</td>\n",
              "      <td>Neutral</td>\n",
              "      <td>till here</td>\n",
              "    </tr>\n",
              "    <tr>\n",
              "      <th>freq</th>\n",
              "      <td>23</td>\n",
              "      <td>8929</td>\n",
              "      <td>2</td>\n",
              "    </tr>\n",
              "  </tbody>\n",
              "</table>\n",
              "</div>"
            ],
            "text/plain": [
              "       review   target unexpected\n",
              "count   20227    20228          7\n",
              "unique  19663        4          6\n",
              "top      Good  Neutral  till here\n",
              "freq       23     8929          2"
            ]
          },
          "metadata": {
            "tags": []
          },
          "execution_count": 265
        }
      ]
    },
    {
      "cell_type": "code",
      "metadata": {
        "id": "TGhGQeE79Iro",
        "colab_type": "code",
        "colab": {
          "base_uri": "https://localhost:8080/",
          "height": 136
        },
        "outputId": "0c21e603-8f0c-4254-a8ac-a40bb6e9405d"
      },
      "source": [
        "original_data['unexpected'].value_counts()"
      ],
      "execution_count": 266,
      "outputs": [
        {
          "output_type": "execute_result",
          "data": {
            "text/plain": [
              "till here           2\n",
              "-------             1\n",
              "------              1\n",
              "----------          1\n",
              "----------------    1\n",
              "9090                1\n",
              "Name: unexpected, dtype: int64"
            ]
          },
          "metadata": {
            "tags": []
          },
          "execution_count": 266
        }
      ]
    },
    {
      "cell_type": "markdown",
      "metadata": {
        "id": "ReOgJzTNAZTg",
        "colab_type": "text"
      },
      "source": [
        "I´m going to go ahead and drop the extra column."
      ]
    },
    {
      "cell_type": "code",
      "metadata": {
        "id": "aNE-VsibAhRO",
        "colab_type": "code",
        "colab": {}
      },
      "source": [
        "original_data.drop('unexpected', axis=1, inplace=True)"
      ],
      "execution_count": 0,
      "outputs": []
    },
    {
      "cell_type": "code",
      "metadata": {
        "id": "DtDvYoCDA9yP",
        "colab_type": "code",
        "colab": {
          "base_uri": "https://localhost:8080/",
          "height": 102
        },
        "outputId": "a0c9714f-19a3-42f4-9915-17f36da47d6e"
      },
      "source": [
        "original_data['target'].value_counts()"
      ],
      "execution_count": 268,
      "outputs": [
        {
          "output_type": "execute_result",
          "data": {
            "text/plain": [
              "Neutral     8929\n",
              "Positive    6012\n",
              "Negative    5286\n",
              "Neative        1\n",
              "Name: target, dtype: int64"
            ]
          },
          "metadata": {
            "tags": []
          },
          "execution_count": 268
        }
      ]
    },
    {
      "cell_type": "markdown",
      "metadata": {
        "id": "qSEInIfqB-SS",
        "colab_type": "text"
      },
      "source": [
        "We also have an unexpected value in our labels. We will have to account for that in the pipeline as well. I´m going to drop it, because I can´t automate for every spelling error in the labels."
      ]
    },
    {
      "cell_type": "code",
      "metadata": {
        "id": "34gKxbopCeYj",
        "colab_type": "code",
        "colab": {
          "base_uri": "https://localhost:8080/",
          "height": 85
        },
        "outputId": "b4e6277b-a31b-46e6-f55a-e1bb7b712a7b"
      },
      "source": [
        "correct_labels = ['Positive', 'Negative', 'Neutral']\n",
        "original_data = original_data[original_data.target.isin(correct_labels)]\n",
        "original_data['target'].value_counts()"
      ],
      "execution_count": 269,
      "outputs": [
        {
          "output_type": "execute_result",
          "data": {
            "text/plain": [
              "Neutral     8929\n",
              "Positive    6012\n",
              "Negative    5286\n",
              "Name: target, dtype: int64"
            ]
          },
          "metadata": {
            "tags": []
          },
          "execution_count": 269
        }
      ]
    },
    {
      "cell_type": "code",
      "metadata": {
        "id": "a0CRH9djEuX1",
        "colab_type": "code",
        "colab": {
          "base_uri": "https://localhost:8080/",
          "height": 68
        },
        "outputId": "eaa5fd97-2096-4453-b7a0-fd582b869ffc"
      },
      "source": [
        "original_data.isnull().sum()"
      ],
      "execution_count": 270,
      "outputs": [
        {
          "output_type": "execute_result",
          "data": {
            "text/plain": [
              "review    1\n",
              "target    0\n",
              "dtype: int64"
            ]
          },
          "metadata": {
            "tags": []
          },
          "execution_count": 270
        }
      ]
    },
    {
      "cell_type": "markdown",
      "metadata": {
        "id": "u0N8H9HSElHv",
        "colab_type": "text"
      },
      "source": [
        "There is one null review\n",
        "\n"
      ]
    },
    {
      "cell_type": "markdown",
      "metadata": {
        "id": "k9vUZ87DYtbZ",
        "colab_type": "text"
      },
      "source": [
        "## Data Exploration\n",
        "\n",
        "Let´s take a look at the label distribution in our dataset"
      ]
    },
    {
      "cell_type": "code",
      "metadata": {
        "id": "Ri1RqxKQYzze",
        "colab_type": "code",
        "colab": {
          "base_uri": "https://localhost:8080/",
          "height": 339
        },
        "outputId": "4464e15e-b62b-438d-e38a-221207334711"
      },
      "source": [
        "sns.set_style('ticks')\n",
        "fig, ax = plt.subplots()\n",
        "fig.set_size_inches(10, 5)\n",
        "sns.countplot(y=original_data.target);"
      ],
      "execution_count": 271,
      "outputs": [
        {
          "output_type": "display_data",
          "data": {
            "image/png": "[encoded data removed]",
            "text/plain": [
              "<Figure size 720x360 with 1 Axes>"
            ]
          },
          "metadata": {
            "tags": []
          }
        }
      ]
    },
    {
      "cell_type": "markdown",
      "metadata": {
        "id": "ExBMB7osbHDf",
        "colab_type": "text"
      },
      "source": [
        "It looks like we have a few more neural reviews than positive or negative. Positive and negative counts are close enough.\n",
        "\n",
        "One of the ***requirements*** of the work sample is to document how data limitations impact the result, and what I might do on a larger project.\n",
        "\n",
        "When the class distribution is unbalanced, the model favors predicting the most frequent class. Accuracy can be a poor choice of evaluation metric for a classifier if the data is unbalanced as well.\n",
        "\n",
        "On a larger project, I might consider a technique such as GAN minority oversampling to balance out the dataset.\n"
      ]
    },
    {
      "cell_type": "code",
      "metadata": {
        "id": "N-rvd8hHq-mO",
        "colab_type": "code",
        "colab": {}
      },
      "source": [
        ""
      ],
      "execution_count": 0,
      "outputs": []
    }
  ]
}